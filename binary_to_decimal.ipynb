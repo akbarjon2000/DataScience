{
  "cells": [
    {
      "cell_type": "markdown",
      "metadata": {
        "id": "view-in-github",
        "colab_type": "text"
      },
      "source": [
        "<a href=\"https://colab.research.google.com/github/akbarjon2000/DataScience/blob/main/binary_to_decimal.ipynb\" target=\"_parent\"><img src=\"https://colab.research.google.com/assets/colab-badge.svg\" alt=\"Open In Colab\"/></a>"
      ]
    },
    {
      "cell_type": "code",
      "source": [
        "class DecimalToBinary:\n",
        "  def __init__(self, length=0):\n",
        "    self.res = 0\n",
        "    self.length = length\n",
        "  def change(self, b):\n",
        "    self.res = 0\n",
        "    self.length = len(b)\n",
        "    b = b[::-1]\n",
        "    for i in range(self.length):\n",
        "      self.res += int(b[i])*2**i\n",
        "    return self.res\n",
        ""
      ],
      "metadata": {
        "id": "aVc9Z9HRST3r"
      },
      "execution_count": 91,
      "outputs": []
    },
    {
      "cell_type": "code",
      "source": [
        "d = DecimalToBinary()"
      ],
      "metadata": {
        "id": "0jJGp3HoTxFv"
      },
      "execution_count": 92,
      "outputs": []
    },
    {
      "cell_type": "code",
      "source": [
        "d.change(\"1101\")"
      ],
      "metadata": {
        "id": "B6Hk8-YOT05E",
        "outputId": "70d694ff-554a-424f-ba57-3d0764503c7b",
        "colab": {
          "base_uri": "https://localhost:8080/"
        }
      },
      "execution_count": 97,
      "outputs": [
        {
          "output_type": "execute_result",
          "data": {
            "text/plain": [
              "13"
            ]
          },
          "metadata": {},
          "execution_count": 97
        }
      ]
    },
    {
      "cell_type": "code",
      "source": [
        "2**0"
      ],
      "metadata": {
        "id": "QLpebgAUT5oM",
        "outputId": "208475fc-0cfb-4874-d107-9526b1c7a009",
        "colab": {
          "base_uri": "https://localhost:8080/"
        }
      },
      "execution_count": 56,
      "outputs": [
        {
          "output_type": "execute_result",
          "data": {
            "text/plain": [
              "1"
            ]
          },
          "metadata": {},
          "execution_count": 56
        }
      ]
    },
    {
      "cell_type": "code",
      "source": [],
      "metadata": {
        "id": "IGRBFxs2VsmI"
      },
      "execution_count": null,
      "outputs": []
    }
  ],
  "metadata": {
    "colab": {
      "name": "Welcome To Colaboratory",
      "toc_visible": true,
      "provenance": [],
      "include_colab_link": true
    },
    "kernelspec": {
      "display_name": "Python 3",
      "name": "python3"
    }
  },
  "nbformat": 4,
  "nbformat_minor": 0
}