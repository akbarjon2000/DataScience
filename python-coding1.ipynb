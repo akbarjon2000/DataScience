{
  "cells": [
    {
      "cell_type": "markdown",
      "metadata": {
        "id": "view-in-github",
        "colab_type": "text"
      },
      "source": [
        "<a href=\"https://colab.research.google.com/github/akbarjon2000/DataScience/blob/main/python-coding1.ipynb\" target=\"_parent\"><img src=\"https://colab.research.google.com/assets/colab-badge.svg\" alt=\"Open In Colab\"/></a>"
      ]
    },
    {
      "cell_type": "code",
      "source": [
        "1+2"
      ],
      "metadata": {
        "id": "CbnMDrQMMp-h",
        "outputId": "e330a9c1-0148-4a00-80ec-162d2824ef21",
        "colab": {
          "base_uri": "https://localhost:8080/"
        }
      },
      "execution_count": 1,
      "outputs": [
        {
          "output_type": "execute_result",
          "data": {
            "text/plain": [
              "3"
            ]
          },
          "metadata": {},
          "execution_count": 1
        }
      ]
    },
    {
      "cell_type": "code",
      "source": [
        "-1"
      ],
      "metadata": {
        "id": "57XfKVdLNIY4",
        "outputId": "24ad9b2b-757d-46f5-8d63-0fe4e21255d6",
        "colab": {
          "base_uri": "https://localhost:8080/"
        }
      },
      "execution_count": 2,
      "outputs": [
        {
          "output_type": "execute_result",
          "data": {
            "text/plain": [
              "-1"
            ]
          },
          "metadata": {},
          "execution_count": 2
        }
      ]
    },
    {
      "cell_type": "code",
      "source": [
        "divmod(6, 4\n",
        "      )"
      ],
      "metadata": {
        "id": "KH5FzD5cNMAe",
        "outputId": "2ed6208b-7c8e-4cb8-d5b7-631bf24cc2fb",
        "colab": {
          "base_uri": "https://localhost:8080/"
        }
      },
      "execution_count": 3,
      "outputs": [
        {
          "output_type": "execute_result",
          "data": {
            "text/plain": [
              "(1, 2)"
            ]
          },
          "metadata": {},
          "execution_count": 3
        }
      ]
    },
    {
      "cell_type": "code",
      "source": [
        "import numpy as np\n"
      ],
      "metadata": {
        "id": "9oD0GSF5NYZi"
      },
      "execution_count": 4,
      "outputs": []
    },
    {
      "cell_type": "code",
      "source": [
        "def add(a,b):\n",
        "  return a+b"
      ],
      "metadata": {
        "id": "ULN5DL_QNfS_"
      },
      "execution_count": 5,
      "outputs": []
    },
    {
      "cell_type": "code",
      "source": [
        "add(1, 5)"
      ],
      "metadata": {
        "id": "6UrY42GHNl1Z",
        "outputId": "76b7d423-dab6-49b0-99de-a9c58ecb2db5",
        "colab": {
          "base_uri": "https://localhost:8080/"
        }
      },
      "execution_count": 6,
      "outputs": [
        {
          "output_type": "execute_result",
          "data": {
            "text/plain": [
              "6"
            ]
          },
          "metadata": {},
          "execution_count": 6
        }
      ]
    },
    {
      "cell_type": "code",
      "source": [
        "A = []"
      ],
      "metadata": {
        "id": "pOsPjNyjNnXi"
      },
      "execution_count": 7,
      "outputs": []
    },
    {
      "cell_type": "code",
      "source": [
        "A "
      ],
      "metadata": {
        "id": "vhfoFxByOcdj",
        "outputId": "cd45e5ef-3e61-4733-832b-0c74ac1d5c82",
        "colab": {
          "base_uri": "https://localhost:8080/"
        }
      },
      "execution_count": 9,
      "outputs": [
        {
          "output_type": "execute_result",
          "data": {
            "text/plain": [
              "[]"
            ]
          },
          "metadata": {},
          "execution_count": 9
        }
      ]
    },
    {
      "cell_type": "code",
      "source": [
        "A = [1,2,3]"
      ],
      "metadata": {
        "id": "ZRu_AAG_OdaH"
      },
      "execution_count": 10,
      "outputs": []
    },
    {
      "cell_type": "code",
      "source": [
        "A"
      ],
      "metadata": {
        "id": "ER6x5TzdOoxE",
        "outputId": "7f6dc771-9048-4d8a-ed2b-d125d31d2f0d",
        "colab": {
          "base_uri": "https://localhost:8080/"
        }
      },
      "execution_count": 11,
      "outputs": [
        {
          "output_type": "execute_result",
          "data": {
            "text/plain": [
              "[1, 2, 3]"
            ]
          },
          "metadata": {},
          "execution_count": 11
        }
      ]
    },
    {
      "cell_type": "code",
      "source": [
        "A[0]"
      ],
      "metadata": {
        "id": "J7oSSGNGOpKF",
        "outputId": "ce8ece8b-3ab3-4315-e1ab-3ae95cdaf3eb",
        "colab": {
          "base_uri": "https://localhost:8080/"
        }
      },
      "execution_count": 12,
      "outputs": [
        {
          "output_type": "execute_result",
          "data": {
            "text/plain": [
              "1"
            ]
          },
          "metadata": {},
          "execution_count": 12
        }
      ]
    },
    {
      "cell_type": "code",
      "source": [
        "B = {1:\"name\", \"smart\" : \"factory\"}"
      ],
      "metadata": {
        "id": "QwJCuaHsOtPW"
      },
      "execution_count": 13,
      "outputs": []
    },
    {
      "cell_type": "code",
      "source": [
        "B[1]"
      ],
      "metadata": {
        "id": "dGYsXZrkPT40",
        "outputId": "6f87501e-bdbc-4f36-87ab-650ffe3a17df",
        "colab": {
          "base_uri": "https://localhost:8080/",
          "height": 35
        }
      },
      "execution_count": 14,
      "outputs": [
        {
          "output_type": "execute_result",
          "data": {
            "text/plain": [
              "'name'"
            ],
            "application/vnd.google.colaboratory.intrinsic+json": {
              "type": "string"
            }
          },
          "metadata": {},
          "execution_count": 14
        }
      ]
    },
    {
      "cell_type": "code",
      "source": [
        "major = \"comp\""
      ],
      "metadata": {
        "id": "ESmnh6ZjPU26"
      },
      "execution_count": 15,
      "outputs": []
    },
    {
      "cell_type": "code",
      "source": [
        "if major == \"comp\":\n",
        "  print(True)\n",
        "else: \n",
        "  print(False)"
      ],
      "metadata": {
        "id": "xDDmut0XQeHe",
        "outputId": "797f22a8-c016-4fae-e19a-d5ed4e82e18c",
        "colab": {
          "base_uri": "https://localhost:8080/"
        }
      },
      "execution_count": 18,
      "outputs": [
        {
          "output_type": "stream",
          "name": "stdout",
          "text": [
            "False\n"
          ]
        }
      ]
    },
    {
      "cell_type": "code",
      "source": [
        "major = \"another\""
      ],
      "metadata": {
        "id": "izBdS6UhQlYK"
      },
      "execution_count": 17,
      "outputs": []
    },
    {
      "cell_type": "code",
      "source": [
        "if major == \"comp\":\n",
        "  print(True)\n",
        "elif major == \"biology\":\n",
        "  print(\"nature\")\n",
        "else: \n",
        "  print(False)"
      ],
      "metadata": {
        "id": "GAoObxJjQn66",
        "outputId": "0312ad19-6a5a-4dac-bb50-3eb421506417",
        "colab": {
          "base_uri": "https://localhost:8080/"
        }
      },
      "execution_count": 23,
      "outputs": [
        {
          "output_type": "stream",
          "name": "stdout",
          "text": [
            "nature\n"
          ]
        }
      ]
    },
    {
      "cell_type": "code",
      "source": [
        "major = \"biology\""
      ],
      "metadata": {
        "id": "846ZTDgMRBtC"
      },
      "execution_count": 24,
      "outputs": []
    },
    {
      "cell_type": "code",
      "source": [
        "a = {\"a\":\"b\"}"
      ],
      "metadata": {
        "id": "t5ghVRoVRE2d"
      },
      "execution_count": 25,
      "outputs": []
    },
    {
      "cell_type": "code",
      "source": [
        "b = {\"a\":\"b\"}"
      ],
      "metadata": {
        "id": "TFML9eN8Ra54"
      },
      "execution_count": 28,
      "outputs": []
    },
    {
      "cell_type": "code",
      "source": [
        "a == b"
      ],
      "metadata": {
        "id": "VPtEfusnRcUt",
        "outputId": "60357479-28a0-4f2f-fed4-5b6198d9ec55",
        "colab": {
          "base_uri": "https://localhost:8080/"
        }
      },
      "execution_count": 29,
      "outputs": [
        {
          "output_type": "execute_result",
          "data": {
            "text/plain": [
              "True"
            ]
          },
          "metadata": {},
          "execution_count": 29
        }
      ]
    },
    {
      "cell_type": "code",
      "source": [
        "1 in A"
      ],
      "metadata": {
        "id": "xchevBo_RdTo",
        "outputId": "f3e62bf7-271b-4118-c35d-8455b0aa9fa5",
        "colab": {
          "base_uri": "https://localhost:8080/"
        }
      },
      "execution_count": 30,
      "outputs": [
        {
          "output_type": "execute_result",
          "data": {
            "text/plain": [
              "True"
            ]
          },
          "metadata": {},
          "execution_count": 30
        }
      ]
    },
    {
      "cell_type": "code",
      "source": [
        "B = (1,2,3)"
      ],
      "metadata": {
        "id": "dPURicqfSq10"
      },
      "execution_count": 31,
      "outputs": []
    },
    {
      "cell_type": "code",
      "source": [
        "1 in B"
      ],
      "metadata": {
        "id": "Az9BUgLGTUOh",
        "outputId": "4a8501c7-2736-4a69-834e-708a065a74fd",
        "colab": {
          "base_uri": "https://localhost:8080/"
        }
      },
      "execution_count": 32,
      "outputs": [
        {
          "output_type": "execute_result",
          "data": {
            "text/plain": [
              "True"
            ]
          },
          "metadata": {},
          "execution_count": 32
        }
      ]
    },
    {
      "cell_type": "code",
      "source": [
        "C = \"something\""
      ],
      "metadata": {
        "id": "qvN6jKbkTWRN"
      },
      "execution_count": 33,
      "outputs": []
    },
    {
      "cell_type": "code",
      "source": [
        "\"s\" in C"
      ],
      "metadata": {
        "id": "7u6-R1atTejl",
        "outputId": "5123a107-eb70-4eed-b4ba-67756f2c2ddc",
        "colab": {
          "base_uri": "https://localhost:8080/"
        }
      },
      "execution_count": 35,
      "outputs": [
        {
          "output_type": "execute_result",
          "data": {
            "text/plain": [
              "True"
            ]
          },
          "metadata": {},
          "execution_count": 35
        }
      ]
    },
    {
      "cell_type": "code",
      "source": [
        "week = 0\n",
        "while week != 15:\n",
        "  week += 1\n",
        "  print('attand class on week %d' % week)\n",
        "print(\"end of semester\")"
      ],
      "metadata": {
        "id": "oy94tFpxTgGt",
        "outputId": "9db31428-3135-46f0-fb68-3e23ac5d74fe",
        "colab": {
          "base_uri": "https://localhost:8080/"
        }
      },
      "execution_count": 43,
      "outputs": [
        {
          "output_type": "stream",
          "name": "stdout",
          "text": [
            "attand class on week 1\n",
            "attand class on week 2\n",
            "attand class on week 3\n",
            "attand class on week 4\n",
            "attand class on week 5\n",
            "attand class on week 6\n",
            "attand class on week 7\n",
            "attand class on week 8\n",
            "attand class on week 9\n",
            "attand class on week 10\n",
            "attand class on week 11\n",
            "attand class on week 12\n",
            "attand class on week 13\n",
            "attand class on week 14\n",
            "attand class on week 15\n",
            "end of semester\n"
          ]
        }
      ]
    },
    {
      "cell_type": "code",
      "source": [
        "class_list = [\"Dynamics\", \"Eng Math\", \"Programming\"]"
      ],
      "metadata": {
        "id": "fMeXW1v1VOTN"
      },
      "execution_count": 44,
      "outputs": []
    },
    {
      "cell_type": "code",
      "source": [
        "for i in class_list:\n",
        "  print(i)"
      ],
      "metadata": {
        "id": "jWjGkN8dX4DP",
        "outputId": "df678907-9e6b-4d2f-f4db-fb1680f0bc98",
        "colab": {
          "base_uri": "https://localhost:8080/"
        }
      },
      "execution_count": 45,
      "outputs": [
        {
          "output_type": "stream",
          "name": "stdout",
          "text": [
            "Dynamics\n",
            "Eng Math\n",
            "Programming\n"
          ]
        }
      ]
    },
    {
      "cell_type": "code",
      "source": [
        "for i in range(1, 10):\n",
        "  print(i)"
      ],
      "metadata": {
        "id": "KUi5t3HrX8iy",
        "outputId": "7d40128c-7743-4c05-c5af-e7f663f32b60",
        "colab": {
          "base_uri": "https://localhost:8080/"
        }
      },
      "execution_count": 46,
      "outputs": [
        {
          "output_type": "stream",
          "name": "stdout",
          "text": [
            "1\n",
            "2\n",
            "3\n",
            "4\n",
            "5\n",
            "6\n",
            "7\n",
            "8\n",
            "9\n"
          ]
        }
      ]
    },
    {
      "cell_type": "code",
      "source": [
        "for i, class_name in enumerate(class_list):\n",
        "  print(i, class_name)"
      ],
      "metadata": {
        "id": "mcI47NPzYBoi",
        "outputId": "6d9bb57c-0aa2-42c2-932e-b4665236d1c0",
        "colab": {
          "base_uri": "https://localhost:8080/"
        }
      },
      "execution_count": 47,
      "outputs": [
        {
          "output_type": "stream",
          "name": "stdout",
          "text": [
            "0 Dynamics\n",
            "1 Eng Math\n",
            "2 Programming\n"
          ]
        }
      ]
    },
    {
      "cell_type": "code",
      "source": [
        "def calc(key, *args):\n",
        "  result = 0\n",
        "  if key == \"add\":\n",
        "    for num in args:\n",
        "      result += num\n",
        "  if key == \"mul\":\n",
        "    result = 1\n",
        "    for num in args:\n",
        "      result *= num\n",
        "  return result"
      ],
      "metadata": {
        "id": "fVnXeXaYYbCS"
      },
      "execution_count": 70,
      "outputs": []
    },
    {
      "cell_type": "code",
      "source": [
        "calc(\"add\", 12,2,3,3,3,3)"
      ],
      "metadata": {
        "id": "WkTTkXN-cVwv",
        "outputId": "1a89f1d9-734b-4317-e2c4-43688f329644",
        "colab": {
          "base_uri": "https://localhost:8080/"
        }
      },
      "execution_count": 71,
      "outputs": [
        {
          "output_type": "execute_result",
          "data": {
            "text/plain": [
              "26"
            ]
          },
          "metadata": {},
          "execution_count": 71
        }
      ]
    },
    {
      "cell_type": "code",
      "source": [
        "calc(\"mul\", 2,3,4,5,6,7,87)"
      ],
      "metadata": {
        "id": "0qnc8h3zcoPD",
        "outputId": "5a20cedf-9f90-4eca-9b6a-6dc9b7a5c6b6",
        "colab": {
          "base_uri": "https://localhost:8080/"
        }
      },
      "execution_count": 72,
      "outputs": [
        {
          "output_type": "execute_result",
          "data": {
            "text/plain": [
              "438480"
            ]
          },
          "metadata": {},
          "execution_count": 72
        }
      ]
    },
    {
      "cell_type": "code",
      "source": [
        "class Calculator:\n",
        "  def __init__(self):\n",
        "    self.number = None\n",
        "  def add(self, value):\n",
        "    if not self.number:\n",
        "      self.number = value\n",
        "    else:\n",
        "      self.number += value\n"
      ],
      "metadata": {
        "id": "FU74y5sicai3"
      },
      "execution_count": 76,
      "outputs": []
    },
    {
      "cell_type": "code",
      "source": [
        "cal = Calculator()"
      ],
      "metadata": {
        "id": "MAuyjhCbemCB"
      },
      "execution_count": 77,
      "outputs": []
    },
    {
      "cell_type": "code",
      "source": [
        "cal.add(9)"
      ],
      "metadata": {
        "id": "-H-QGct9eoZr"
      },
      "execution_count": 80,
      "outputs": []
    },
    {
      "cell_type": "code",
      "source": [
        "cal.number"
      ],
      "metadata": {
        "id": "rZl7RJWZepQf",
        "outputId": "c01fbbfc-08c1-476b-ec06-b5e919e26e3d",
        "colab": {
          "base_uri": "https://localhost:8080/"
        }
      },
      "execution_count": 81,
      "outputs": [
        {
          "output_type": "execute_result",
          "data": {
            "text/plain": [
              "12"
            ]
          },
          "metadata": {},
          "execution_count": 81
        }
      ]
    },
    {
      "cell_type": "code",
      "source": [],
      "metadata": {
        "id": "tAbbshDHfJe5"
      },
      "execution_count": null,
      "outputs": []
    }
  ],
  "metadata": {
    "colab": {
      "name": "Welcome To Colaboratory",
      "toc_visible": true,
      "provenance": [],
      "include_colab_link": true
    },
    "kernelspec": {
      "display_name": "Python 3",
      "name": "python3"
    }
  },
  "nbformat": 4,
  "nbformat_minor": 0
}