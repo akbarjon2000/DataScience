{
  "cells": [
    {
      "cell_type": "markdown",
      "metadata": {
        "id": "view-in-github",
        "colab_type": "text"
      },
      "source": [
        "<a href=\"https://colab.research.google.com/github/akbarjon2000/DataScience/blob/main/boolean_indexing.ipynb\" target=\"_parent\"><img src=\"https://colab.research.google.com/assets/colab-badge.svg\" alt=\"Open In Colab\"/></a>"
      ]
    },
    {
      "cell_type": "code",
      "source": [
        "import numpy as np\n",
        "names = np.array([\"Akbarjon\", \"Ahmadjon\", \"Aizmaxon\", \"Halimaxon\", \"Sobitxon\"])"
      ],
      "metadata": {
        "id": "1M6pRd6_CBZW"
      },
      "execution_count": 11,
      "outputs": []
    },
    {
      "cell_type": "code",
      "source": [
        "names"
      ],
      "metadata": {
        "id": "R5ONxjHjCOja",
        "outputId": "ceb8017a-59b7-4411-fd4d-00ad0ddda5e5",
        "colab": {
          "base_uri": "https://localhost:8080/"
        }
      },
      "execution_count": 4,
      "outputs": [
        {
          "output_type": "execute_result",
          "data": {
            "text/plain": [
              "array(['Akbarjon', 'Ahmadjon', 'Aizmaxon', 'Halimaxon', 'Sobitxon'],\n",
              "      dtype='<U9')"
            ]
          },
          "metadata": {},
          "execution_count": 4
        }
      ]
    },
    {
      "cell_type": "code",
      "source": [
        "data = np.random.rand(5, 4)"
      ],
      "metadata": {
        "id": "3e8xmw_3CVYp"
      },
      "execution_count": 7,
      "outputs": []
    },
    {
      "cell_type": "code",
      "source": [
        "data"
      ],
      "metadata": {
        "id": "FCLBDm_OCb2Y",
        "outputId": "12854355-74fe-4680-95ff-fe3ac23930f4",
        "colab": {
          "base_uri": "https://localhost:8080/"
        }
      },
      "execution_count": 12,
      "outputs": [
        {
          "output_type": "execute_result",
          "data": {
            "text/plain": [
              "array([[0.63516307, 0.74323362, 0.28322357, 0.83379843],\n",
              "       [0.38597456, 0.96447421, 0.41159008, 0.5026807 ],\n",
              "       [0.45222213, 0.1382129 , 0.07972541, 0.21734045],\n",
              "       [0.57841704, 0.29910887, 0.89634323, 0.17522769],\n",
              "       [0.03095646, 0.09834103, 0.13593101, 0.42933735]])"
            ]
          },
          "metadata": {},
          "execution_count": 12
        }
      ]
    },
    {
      "cell_type": "code",
      "source": [
        "names == 'Akbarjon'"
      ],
      "metadata": {
        "id": "AV8NGTYbC-rt",
        "outputId": "e927c88e-5e03-448a-f557-41c2e5a7d71d",
        "colab": {
          "base_uri": "https://localhost:8080/"
        }
      },
      "execution_count": 13,
      "outputs": [
        {
          "output_type": "execute_result",
          "data": {
            "text/plain": [
              "array([ True, False, False, False, False])"
            ]
          },
          "metadata": {},
          "execution_count": 13
        }
      ]
    },
    {
      "cell_type": "code",
      "source": [
        "data[names == 'Akbarjon']"
      ],
      "metadata": {
        "id": "0WCzM0DaDBaG",
        "outputId": "54794f60-0302-403e-895c-b822b8d8dd94",
        "colab": {
          "base_uri": "https://localhost:8080/"
        }
      },
      "execution_count": 14,
      "outputs": [
        {
          "output_type": "execute_result",
          "data": {
            "text/plain": [
              "array([[0.63516307, 0.74323362, 0.28322357, 0.83379843]])"
            ]
          },
          "metadata": {},
          "execution_count": 14
        }
      ]
    },
    {
      "cell_type": "code",
      "source": [
        "data[~(names == 'Akbarjon')]"
      ],
      "metadata": {
        "id": "lnVFR_8xDFMU",
        "outputId": "cb3f2316-3add-42f0-c5e3-777850a2b783",
        "colab": {
          "base_uri": "https://localhost:8080/"
        }
      },
      "execution_count": 18,
      "outputs": [
        {
          "output_type": "execute_result",
          "data": {
            "text/plain": [
              "array([[0.38597456, 0.96447421, 0.41159008, 0.5026807 ],\n",
              "       [0.45222213, 0.1382129 , 0.07972541, 0.21734045],\n",
              "       [0.57841704, 0.29910887, 0.89634323, 0.17522769],\n",
              "       [0.03095646, 0.09834103, 0.13593101, 0.42933735]])"
            ]
          },
          "metadata": {},
          "execution_count": 18
        }
      ]
    },
    {
      "cell_type": "code",
      "source": [
        "data[(names == 'Akbarjon') | (names == 'Ahmadjon')]"
      ],
      "metadata": {
        "id": "_58R3iexDNwA",
        "outputId": "88ed36fc-a288-480f-e0f2-040f75c50bcf",
        "colab": {
          "base_uri": "https://localhost:8080/"
        }
      },
      "execution_count": 21,
      "outputs": [
        {
          "output_type": "execute_result",
          "data": {
            "text/plain": [
              "array([[0.63516307, 0.74323362, 0.28322357, 0.83379843],\n",
              "       [0.38597456, 0.96447421, 0.41159008, 0.5026807 ]])"
            ]
          },
          "metadata": {},
          "execution_count": 21
        }
      ]
    },
    {
      "cell_type": "code",
      "source": [
        "data[data < 1] = 1;"
      ],
      "metadata": {
        "id": "8P0QhRgxERrU"
      },
      "execution_count": 24,
      "outputs": []
    },
    {
      "cell_type": "code",
      "source": [
        "data"
      ],
      "metadata": {
        "id": "dOR_Y2qsFF-R",
        "outputId": "7a5ed3c9-7cf1-4d7d-fd0a-6182db7d8713",
        "colab": {
          "base_uri": "https://localhost:8080/"
        }
      },
      "execution_count": 25,
      "outputs": [
        {
          "output_type": "execute_result",
          "data": {
            "text/plain": [
              "array([[1., 1., 1., 1.],\n",
              "       [1., 1., 1., 1.],\n",
              "       [1., 1., 1., 1.],\n",
              "       [1., 1., 1., 1.],\n",
              "       [1., 1., 1., 1.]])"
            ]
          },
          "metadata": {},
          "execution_count": 25
        }
      ]
    },
    {
      "cell_type": "code",
      "source": [],
      "metadata": {
        "id": "CZeQgEFeFGsP"
      },
      "execution_count": null,
      "outputs": []
    }
  ],
  "metadata": {
    "colab": {
      "name": "Welcome To Colaboratory",
      "toc_visible": true,
      "provenance": [],
      "include_colab_link": true
    },
    "kernelspec": {
      "display_name": "Python 3",
      "name": "python3"
    }
  },
  "nbformat": 4,
  "nbformat_minor": 0
}