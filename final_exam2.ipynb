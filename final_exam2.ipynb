{
  "cells": [
    {
      "cell_type": "markdown",
      "metadata": {
        "id": "view-in-github",
        "colab_type": "text"
      },
      "source": [
        "<a href=\"https://colab.research.google.com/github/akbarjon2000/DataScience/blob/main/final_exam2.ipynb\" target=\"_parent\"><img src=\"https://colab.research.google.com/assets/colab-badge.svg\" alt=\"Open In Colab\"/></a>"
      ]
    },
    {
      "cell_type": "markdown",
      "source": [
        "Problem 1"
      ],
      "metadata": {
        "id": "-qh-eUAaOF1x"
      }
    },
    {
      "cell_type": "code",
      "source": [
        "import random\n",
        "import matplotlib.pyplot as plt\n",
        "import numpy as np"
      ],
      "metadata": {
        "id": "UHeZO4R7OM4B"
      },
      "execution_count": 20,
      "outputs": []
    },
    {
      "cell_type": "code",
      "source": [
        "def untie(num_sec = 10, prob = 2/3):\n",
        "  sections = [True] * num_sec\n",
        "  attempts = 0\n",
        "\n",
        "  while any(sections):\n",
        "    attempts += 1\n",
        "    section = random.randint(0, num_sec - 1)\n",
        "    if sections[section] and random.random() < prob:\n",
        "      sections[section] = False\n",
        "  return attempts\n",
        "  def simulate():\n",
        "    res = 0\n",
        "    for i in range(1000):\n",
        "      res += untie()\n",
        "    return res/1000"
      ],
      "metadata": {
        "id": "nM_K7p5gOOvi"
      },
      "execution_count": 25,
      "outputs": []
    },
    {
      "cell_type": "code",
      "source": [
        "simulate()"
      ],
      "metadata": {
        "colab": {
          "base_uri": "https://localhost:8080/"
        },
        "id": "nHp_LDEcQZL6",
        "outputId": "b797de92-d9eb-4765-daa9-773870b7e608"
      },
      "execution_count": 13,
      "outputs": [
        {
          "output_type": "execute_result",
          "data": {
            "text/plain": [
              "44.706"
            ]
          },
          "metadata": {},
          "execution_count": 13
        }
      ]
    },
    {
      "cell_type": "markdown",
      "source": [
        "Problem 2"
      ],
      "metadata": {
        "id": "rB6_yKuwRE-f"
      }
    },
    {
      "cell_type": "code",
      "source": [
        "def f(w):\n",
        "  return w**2"
      ],
      "metadata": {
        "id": "_P15fvISQbhf"
      },
      "execution_count": 14,
      "outputs": []
    },
    {
      "cell_type": "code",
      "source": [
        "def get_grad(f, w):\n",
        "  h = 1e-4\n",
        "  return (f(w+h) - f(w))/h"
      ],
      "metadata": {
        "id": "Xpfb_9DGS4EH"
      },
      "execution_count": 15,
      "outputs": []
    },
    {
      "cell_type": "code",
      "source": [
        "get_grad(f, 0)"
      ],
      "metadata": {
        "colab": {
          "base_uri": "https://localhost:8080/"
        },
        "id": "5JjNtQECTHjY",
        "outputId": "d8af1a36-8d76-4b3a-ca16-27489d7958f2"
      },
      "execution_count": 19,
      "outputs": [
        {
          "output_type": "execute_result",
          "data": {
            "text/plain": [
              "9.999999999999999e-05"
            ]
          },
          "metadata": {},
          "execution_count": 19
        }
      ]
    },
    {
      "cell_type": "code",
      "source": [
        "x_train = np.array([1.,2.,3.,4.]).reshape(4,1)\n",
        "y_train = np.array([5.,8.,11.,14.]).reshape(4,1)"
      ],
      "metadata": {
        "id": "2WAvdaqCVN-W"
      },
      "execution_count": 35,
      "outputs": []
    },
    {
      "cell_type": "code",
      "source": [
        "def mean_squared_error(y, y_pred):\n",
        "  return np.mean(np.square(y-y_pred))"
      ],
      "metadata": {
        "id": "fgmj2nbyTKjf"
      },
      "execution_count": 37,
      "outputs": []
    },
    {
      "cell_type": "code",
      "source": [
        "learning_rate = 1e-2"
      ],
      "metadata": {
        "id": "SGNe_28pTqbP"
      },
      "execution_count": 23,
      "outputs": []
    },
    {
      "cell_type": "code",
      "source": [
        "w = 0\n",
        "w_history = [w]"
      ],
      "metadata": {
        "id": "FrPwhabHUZB5"
      },
      "execution_count": 24,
      "outputs": []
    },
    {
      "cell_type": "code",
      "source": [
        "class Dense:\n",
        "  def __init__(self):\n",
        "    self.w = np.random.normal()\n",
        "  def call(self, x):\n",
        "    return x*self.w\n",
        "  def loss(self, x, y):\n",
        "    y_pred = self.call(x)\n",
        "    return mean_squared_error(y, y_pred)\n",
        "  def get_grad(self, x, y):\n",
        "    h = 1e-4\n",
        "    f1 = self.loss(x, y)\n",
        "    self.w = self.w+h\n",
        "    f2 = self.loss(x, y)\n",
        "    self.w = self.w-h\n",
        "    return (f2-f1)/h"
      ],
      "metadata": {
        "id": "HUSR5hnfUeES"
      },
      "execution_count": 38,
      "outputs": []
    },
    {
      "cell_type": "code",
      "source": [
        "model = Dense()"
      ],
      "metadata": {
        "id": "UPnzWFqbU3gN"
      },
      "execution_count": 39,
      "outputs": []
    },
    {
      "cell_type": "code",
      "source": [
        "w_history = [model.w]\n",
        "loss_history = [model.loss(x_train, y_train)]\n",
        "for i in range(100):\n",
        "  model.w = model.w - learning_rate*model.get_grad(x_train, y_train)\n",
        "  w_history.append(model.w)\n",
        "  loss_history.append(model.loss(x_train, y_train))"
      ],
      "metadata": {
        "id": "uEHVH7SkYNdH"
      },
      "execution_count": 41,
      "outputs": []
    },
    {
      "cell_type": "code",
      "source": [
        "plt.plot(w_history)"
      ],
      "metadata": {
        "colab": {
          "base_uri": "https://localhost:8080/",
          "height": 448
        },
        "id": "vuUZ6qEAZom4",
        "outputId": "bce9d55a-617d-4de8-85d9-4a46c30b6c32"
      },
      "execution_count": 42,
      "outputs": [
        {
          "output_type": "execute_result",
          "data": {
            "text/plain": [
              "[<matplotlib.lines.Line2D at 0x7ffa34aa1c90>]"
            ]
          },
          "metadata": {},
          "execution_count": 42
        },
        {
          "output_type": "display_data",
          "data": {
            "text/plain": [
              "<Figure size 640x480 with 1 Axes>"
            ],
            "image/png": "[encoded data removed]"
          },
          "metadata": {}
        }
      ]
    },
    {
      "cell_type": "markdown",
      "source": [
        "problem 3"
      ],
      "metadata": {
        "id": "B4UudH3PaWXL"
      }
    },
    {
      "cell_type": "code",
      "source": [
        "def step_matrix(x):\n",
        "  return np.array(x>0, dtype=int)"
      ],
      "metadata": {
        "id": "lsTRhu0waJco"
      },
      "execution_count": 43,
      "outputs": []
    },
    {
      "cell_type": "code",
      "source": [
        "x = [[0, 0], [0, 1], [1, 0], [1,1]]"
      ],
      "metadata": {
        "id": "GjQuCrqCbDsv"
      },
      "execution_count": 44,
      "outputs": []
    },
    {
      "cell_type": "code",
      "source": [
        "def AND_matrix(x):\n",
        "  w1, w2, b = 0.5, 0.5, -0.7\n",
        "  w = np.array([[w1],[w2]])\n",
        "  signal = np.dot(x, w) + b\n",
        "\n",
        "  return step_matrix(signal)"
      ],
      "metadata": {
        "id": "fOD-PvaWbIod"
      },
      "execution_count": 45,
      "outputs": []
    },
    {
      "cell_type": "code",
      "source": [
        "AND_matrix(x)"
      ],
      "metadata": {
        "colab": {
          "base_uri": "https://localhost:8080/"
        },
        "id": "i9ZpQPw1bOp6",
        "outputId": "5fadd591-5ee6-4a2a-e0db-b6d9dc0dd84f"
      },
      "execution_count": 47,
      "outputs": [
        {
          "output_type": "execute_result",
          "data": {
            "text/plain": [
              "array([[0],\n",
              "       [0],\n",
              "       [0],\n",
              "       [1]])"
            ]
          },
          "metadata": {},
          "execution_count": 47
        }
      ]
    },
    {
      "cell_type": "code",
      "source": [
        "def NAND_matrix(x):\n",
        "  w1, w2, b = -0.5, -0.5, 0.7\n",
        "  w = np.array([[w1],[w2]])\n",
        "  signal = np.dot(x, w) + b\n",
        "\n",
        "  return step_matrix(signal)"
      ],
      "metadata": {
        "id": "EB1UfomUbKXJ"
      },
      "execution_count": 46,
      "outputs": []
    },
    {
      "cell_type": "code",
      "source": [
        "NAND_matrix(x)"
      ],
      "metadata": {
        "colab": {
          "base_uri": "https://localhost:8080/"
        },
        "id": "LbApk476bNr5",
        "outputId": "c3bb5548-bc3a-4e96-b5a5-1fe15263e1e9"
      },
      "execution_count": 48,
      "outputs": [
        {
          "output_type": "execute_result",
          "data": {
            "text/plain": [
              "array([[1],\n",
              "       [1],\n",
              "       [1],\n",
              "       [0]])"
            ]
          },
          "metadata": {},
          "execution_count": 48
        }
      ]
    },
    {
      "cell_type": "code",
      "source": [
        "def OR_matrix(x):\n",
        "  w1, w2, b = 0.5, 0.5, -0.2\n",
        "  w = np.array([[w1],[w2]])\n",
        "  signal = np.dot(x, w) + b\n",
        "\n",
        "  return step_matrix(signal)"
      ],
      "metadata": {
        "id": "YzISHGz0bT3i"
      },
      "execution_count": 49,
      "outputs": []
    },
    {
      "cell_type": "code",
      "source": [
        "OR_matrix(x)"
      ],
      "metadata": {
        "colab": {
          "base_uri": "https://localhost:8080/"
        },
        "id": "qz2LZVegbWIz",
        "outputId": "16dfcc2b-8164-4b41-fb48-1c4d75b312c5"
      },
      "execution_count": 50,
      "outputs": [
        {
          "output_type": "execute_result",
          "data": {
            "text/plain": [
              "array([[0],\n",
              "       [1],\n",
              "       [1],\n",
              "       [1]])"
            ]
          },
          "metadata": {},
          "execution_count": 50
        }
      ]
    },
    {
      "cell_type": "code",
      "source": [
        "def XOR_matrix(x):\n",
        "  s1 = NAND_matrix(x)\n",
        "  s2 = OR_matrix(x)\n",
        "  s3 = AND_matrix(np.concatenate((s1, s2), axis=1))\n",
        "  return step_matrix(s3)"
      ],
      "metadata": {
        "id": "JcRC6jx-baIG"
      },
      "execution_count": 51,
      "outputs": []
    },
    {
      "cell_type": "code",
      "source": [
        "XOR_matrix(x)"
      ],
      "metadata": {
        "colab": {
          "base_uri": "https://localhost:8080/"
        },
        "id": "nl7ATCA7bdYx",
        "outputId": "78dcf851-678f-41e3-ce89-3487a551e459"
      },
      "execution_count": 52,
      "outputs": [
        {
          "output_type": "execute_result",
          "data": {
            "text/plain": [
              "array([[0],\n",
              "       [1],\n",
              "       [1],\n",
              "       [0]])"
            ]
          },
          "metadata": {},
          "execution_count": 52
        }
      ]
    },
    {
      "cell_type": "markdown",
      "source": [
        "problem 4"
      ],
      "metadata": {
        "id": "vcCfFF2HbiWa"
      }
    },
    {
      "cell_type": "code",
      "source": [
        "def f(x):\n",
        "  x1, x2 = x[:, 0:1], x[:, 1:]\n",
        "  y1 = x1+x2\n",
        "  y2 = x1*x2\n",
        "  return np.concatenate((y1, y2), axis=-1)"
      ],
      "metadata": {
        "id": "nIOo78Hjbgvg"
      },
      "execution_count": 53,
      "outputs": []
    },
    {
      "cell_type": "code",
      "source": [
        "x_train = np.linspace(-2, 2, 10)\n",
        "x_train"
      ],
      "metadata": {
        "colab": {
          "base_uri": "https://localhost:8080/"
        },
        "id": "dZBI8f6Kc3Ys",
        "outputId": "1c707231-d00f-46d3-bd01-ac25f37a5caf"
      },
      "execution_count": 55,
      "outputs": [
        {
          "output_type": "execute_result",
          "data": {
            "text/plain": [
              "array([-2.        , -1.55555556, -1.11111111, -0.66666667, -0.22222222,\n",
              "        0.22222222,  0.66666667,  1.11111111,  1.55555556,  2.        ])"
            ]
          },
          "metadata": {},
          "execution_count": 55
        }
      ]
    },
    {
      "cell_type": "code",
      "source": [
        "x_train = np.stack((x_train, x_train), axis=-1)\n",
        "x_train"
      ],
      "metadata": {
        "colab": {
          "base_uri": "https://localhost:8080/"
        },
        "id": "Y0A2kh_sdArl",
        "outputId": "d8528d3c-b463-4bf6-954f-a11f8ebe7f92"
      },
      "execution_count": 56,
      "outputs": [
        {
          "output_type": "execute_result",
          "data": {
            "text/plain": [
              "array([[-2.        , -2.        ],\n",
              "       [-1.55555556, -1.55555556],\n",
              "       [-1.11111111, -1.11111111],\n",
              "       [-0.66666667, -0.66666667],\n",
              "       [-0.22222222, -0.22222222],\n",
              "       [ 0.22222222,  0.22222222],\n",
              "       [ 0.66666667,  0.66666667],\n",
              "       [ 1.11111111,  1.11111111],\n",
              "       [ 1.55555556,  1.55555556],\n",
              "       [ 2.        ,  2.        ]])"
            ]
          },
          "metadata": {},
          "execution_count": 56
        }
      ]
    },
    {
      "cell_type": "code",
      "source": [
        "x_train[:, 0:1]"
      ],
      "metadata": {
        "colab": {
          "base_uri": "https://localhost:8080/"
        },
        "id": "KWEQOJeFdlvS",
        "outputId": "b26b7dc2-01f9-418b-e896-cc072de6cbfa"
      },
      "execution_count": 60,
      "outputs": [
        {
          "output_type": "execute_result",
          "data": {
            "text/plain": [
              "array([[-2.        ],\n",
              "       [-1.55555556],\n",
              "       [-1.11111111],\n",
              "       [-0.66666667],\n",
              "       [-0.22222222],\n",
              "       [ 0.22222222],\n",
              "       [ 0.66666667],\n",
              "       [ 1.11111111],\n",
              "       [ 1.55555556],\n",
              "       [ 2.        ]])"
            ]
          },
          "metadata": {},
          "execution_count": 60
        }
      ]
    },
    {
      "cell_type": "code",
      "source": [
        "x_train[:, 1:]"
      ],
      "metadata": {
        "colab": {
          "base_uri": "https://localhost:8080/"
        },
        "id": "v3-OOyiyduOp",
        "outputId": "de597b8b-aee0-40ff-bfee-79e8a899cda8"
      },
      "execution_count": 61,
      "outputs": [
        {
          "output_type": "execute_result",
          "data": {
            "text/plain": [
              "array([[-2.        ],\n",
              "       [-1.55555556],\n",
              "       [-1.11111111],\n",
              "       [-0.66666667],\n",
              "       [-0.22222222],\n",
              "       [ 0.22222222],\n",
              "       [ 0.66666667],\n",
              "       [ 1.11111111],\n",
              "       [ 1.55555556],\n",
              "       [ 2.        ]])"
            ]
          },
          "metadata": {},
          "execution_count": 61
        }
      ]
    },
    {
      "cell_type": "code",
      "source": [
        "y_train = f(x_train)"
      ],
      "metadata": {
        "id": "e3zTqWqKdTyc"
      },
      "execution_count": 57,
      "outputs": []
    },
    {
      "cell_type": "code",
      "source": [
        "y_train"
      ],
      "metadata": {
        "colab": {
          "base_uri": "https://localhost:8080/"
        },
        "id": "zJlz9LmWdbN0",
        "outputId": "8c207dbc-5c25-4dde-f262-6dae6cd324a2"
      },
      "execution_count": 58,
      "outputs": [
        {
          "output_type": "execute_result",
          "data": {
            "text/plain": [
              "array([[-4.        ,  4.        ],\n",
              "       [-3.11111111,  2.41975309],\n",
              "       [-2.22222222,  1.2345679 ],\n",
              "       [-1.33333333,  0.44444444],\n",
              "       [-0.44444444,  0.04938272],\n",
              "       [ 0.44444444,  0.04938272],\n",
              "       [ 1.33333333,  0.44444444],\n",
              "       [ 2.22222222,  1.2345679 ],\n",
              "       [ 3.11111111,  2.41975309],\n",
              "       [ 4.        ,  4.        ]])"
            ]
          },
          "metadata": {},
          "execution_count": 58
        }
      ]
    },
    {
      "cell_type": "code",
      "source": [
        "def mean_squared_error(y, y_pred):\n",
        "  return np.mean(np.square(y-y_pred))"
      ],
      "metadata": {
        "id": "McN4EY6ddcey"
      },
      "execution_count": 62,
      "outputs": []
    },
    {
      "cell_type": "code",
      "source": [
        "def relu(x):\n",
        "  return np.maximum(0, x)"
      ],
      "metadata": {
        "id": "kIlQc6w6eHgK"
      },
      "execution_count": 63,
      "outputs": []
    },
    {
      "cell_type": "code",
      "source": [
        "class Dense:\n",
        "  def __init__(self, input_size, output_size, activation=False):\n",
        "    self.input_size = input_size\n",
        "    self.output_size = output_size\n",
        "    self.activation = activation\n",
        "\n",
        "    self.w = np.random.normal(size = (self.input_size, self.output_size))\n",
        "    self.b = np.random.normal(size = (self.output_size, ))\n",
        "\n",
        "  def call(self, x):\n",
        "    output = np.matmul(x, self.w) + self.b\n",
        "    if self.activation:\n",
        "      relu(output)\n",
        "    else:\n",
        "      return output"
      ],
      "metadata": {
        "id": "NWWMS8jqeONC"
      },
      "execution_count": 69,
      "outputs": []
    },
    {
      "cell_type": "code",
      "source": [
        "class NN:\n",
        "  def __init__(self, ):\n",
        "    self.layer1 = Dense(2, 2)\n",
        "    # self.layer2 = Dense(3, 2)\n",
        "    # self.layer3 = Dense(2, 2)\n",
        "  def forward(self, x):\n",
        "    output = self.layer1.call(x)\n",
        "    # output = self.layer2.call(output)\n",
        "    # output = self.layer2.call(output)\n",
        "    return output\n",
        ""
      ],
      "metadata": {
        "id": "35RxbfzCfBzd"
      },
      "execution_count": 81,
      "outputs": []
    },
    {
      "cell_type": "code",
      "source": [
        "model = NN()"
      ],
      "metadata": {
        "id": "Uc2vESHgiy9Q"
      },
      "execution_count": 82,
      "outputs": []
    },
    {
      "cell_type": "code",
      "source": [
        "model.forward(x_train)"
      ],
      "metadata": {
        "colab": {
          "base_uri": "https://localhost:8080/"
        },
        "id": "aDb_9ObHjJTR",
        "outputId": "4bbd040b-7238-4ea3-9222-db0634b0ffb9"
      },
      "execution_count": 83,
      "outputs": [
        {
          "output_type": "execute_result",
          "data": {
            "text/plain": [
              "array([[-4.11653947, -4.72891142],\n",
              "       [-3.5837024 , -3.64981978],\n",
              "       [-3.05086534, -2.57072814],\n",
              "       [-2.51802827, -1.4916365 ],\n",
              "       [-1.98519121, -0.41254487],\n",
              "       [-1.45235414,  0.66654677],\n",
              "       [-0.91951708,  1.74563841],\n",
              "       [-0.38668001,  2.82473005],\n",
              "       [ 0.14615705,  3.90382168],\n",
              "       [ 0.67899412,  4.98291332]])"
            ]
          },
          "metadata": {},
          "execution_count": 83
        }
      ]
    },
    {
      "cell_type": "code",
      "source": [
        "def loss(y):\n",
        "  y_pred = model.forward(x_train)\n",
        "  return mean_squared_error(y, y_pred)"
      ],
      "metadata": {
        "id": "YJRTIJEHkqfQ"
      },
      "execution_count": 84,
      "outputs": []
    },
    {
      "cell_type": "code",
      "source": [
        "def get_grad_by_layer(self, x, y, layer):\n",
        "  h = 1e-5\n",
        "  f1 = self.loss(x, y)\n",
        "  grad_w = np.zeros_like(layer.w)\n",
        "  grad_b = np.zeros_like(layer.b)\n",
        ""
      ],
      "metadata": {
        "id": "cDHm7kFEmSpM"
      },
      "execution_count": null,
      "outputs": []
    }
  ],
  "metadata": {
    "colab": {
      "name": "Colaboratory에 오신 것을 환영합니다",
      "provenance": [],
      "include_colab_link": true
    },
    "kernelspec": {
      "display_name": "Python 3",
      "name": "python3"
    }
  },
  "nbformat": 4,
  "nbformat_minor": 0
}