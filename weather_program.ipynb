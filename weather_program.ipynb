{
  "cells": [
    {
      "cell_type": "markdown",
      "metadata": {
        "id": "view-in-github",
        "colab_type": "text"
      },
      "source": [
        "<a href=\"https://colab.research.google.com/github/akbarjon2000/DataScience/blob/main/weather_program.ipynb\" target=\"_parent\"><img src=\"https://colab.research.google.com/assets/colab-badge.svg\" alt=\"Open In Colab\"/></a>"
      ]
    },
    {
      "cell_type": "code",
      "source": [
        "import requests\n",
        "\n",
        "def fetch_weather(location):\n",
        "    # Replace 'YOUR_API_KEY' with your actual API key from the weather API service\n",
        "    api_key = \"0b45f43c199976aca67ff22b9f78e336\"\n",
        "    url = f\"http://api.openweathermap.org/data/2.5/weather?q={location}&appid={api_key}&units=imperial\"\n",
        "\n",
        "    response = requests.get(url)\n",
        "    if response.status_code == 200:\n",
        "        data = response.json()\n",
        "        temperature = data[\"main\"][\"temp\"]\n",
        "        temperature_celsius = (temperature - 32) * 5/9\n",
        "        humidity = data[\"main\"][\"humidity\"]\n",
        "        weather_description = data[\"weather\"][0][\"description\"]\n",
        "        print(f\"Location: {location}\")\n",
        "        print(f\"Temperature fahrenheit: {temperature}°F\")\n",
        "        print(f\"Temperature celsius: {temperature_celsius:.2f}°C\")\n",
        "        print(f\"Humidity: {humidity}%\")\n",
        "        print(f\"Condition: {weather_description.capitalize()}\")\n",
        "    else:\n",
        "        print(\"Error: Could not retrieve data. Please check the location or try again later.\")\n",
        "\n",
        "# Example usage:\n",
        "location = input(\"Enter a location: \")\n",
        "fetch_weather(location)\n"
      ],
      "metadata": {
        "id": "OflBACZAmW7d",
        "outputId": "62d7820c-4af5-4a01-d6af-14d5d987ab85",
        "colab": {
          "base_uri": "https://localhost:8080/"
        }
      },
      "execution_count": 9,
      "outputs": [
        {
          "output_type": "stream",
          "name": "stdout",
          "text": [
            "Enter a location: suwon\n",
            "Location: suwon\n",
            "Temperature fahrenheit: 51.15°F\n",
            "Temperature celsius: 10.64°C\n",
            "Humidity: 87%\n",
            "Condition: Broken clouds\n"
          ]
        }
      ]
    },
    {
      "cell_type": "code",
      "source": [],
      "metadata": {
        "id": "jozoka9jnneY"
      },
      "execution_count": null,
      "outputs": []
    }
  ],
  "metadata": {
    "colab": {
      "name": "Welcome To Colab",
      "toc_visible": true,
      "provenance": [],
      "include_colab_link": true
    },
    "kernelspec": {
      "display_name": "Python 3",
      "name": "python3"
    }
  },
  "nbformat": 4,
  "nbformat_minor": 0
}