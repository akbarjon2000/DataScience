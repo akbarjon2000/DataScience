{
  "cells": [
    {
      "cell_type": "markdown",
      "metadata": {
        "id": "view-in-github",
        "colab_type": "text"
      },
      "source": [
        "<a href=\"https://colab.research.google.com/github/akbarjon2000/DataScience/blob/main/python_calss.ipynb\" target=\"_parent\"><img src=\"https://colab.research.google.com/assets/colab-badge.svg\" alt=\"Open In Colab\"/></a>"
      ]
    },
    {
      "cell_type": "code",
      "source": [
        "a = []"
      ],
      "metadata": {
        "id": "nGFPAtdmcbFW"
      },
      "execution_count": 1,
      "outputs": []
    },
    {
      "cell_type": "code",
      "source": [
        "a.append(1)"
      ],
      "metadata": {
        "id": "1ULIw8UXccUY"
      },
      "execution_count": 2,
      "outputs": []
    },
    {
      "cell_type": "code",
      "source": [
        "a"
      ],
      "metadata": {
        "colab": {
          "base_uri": "https://localhost:8080/"
        },
        "id": "tkOVXC4aceJb",
        "outputId": "a4860c14-a163-4566-9c25-33398cacbf7e"
      },
      "execution_count": 3,
      "outputs": [
        {
          "output_type": "execute_result",
          "data": {
            "text/plain": [
              "[1]"
            ]
          },
          "metadata": {},
          "execution_count": 3
        }
      ]
    },
    {
      "cell_type": "code",
      "source": [
        "a = a + [2, 3]"
      ],
      "metadata": {
        "id": "2xwfmiVscj1m"
      },
      "execution_count": 6,
      "outputs": []
    },
    {
      "cell_type": "code",
      "source": [
        "a"
      ],
      "metadata": {
        "colab": {
          "base_uri": "https://localhost:8080/"
        },
        "id": "tMny3o7qcqNe",
        "outputId": "8791166b-e9a8-4505-ba7e-d0089eedf66c"
      },
      "execution_count": 7,
      "outputs": [
        {
          "output_type": "execute_result",
          "data": {
            "text/plain": [
              "[1, 2, 3]"
            ]
          },
          "metadata": {},
          "execution_count": 7
        }
      ]
    },
    {
      "cell_type": "code",
      "source": [
        "a.sort()"
      ],
      "metadata": {
        "id": "KQHiuH49cqnZ"
      },
      "execution_count": 9,
      "outputs": []
    },
    {
      "cell_type": "code",
      "source": [
        "a.reverse()"
      ],
      "metadata": {
        "id": "irgIpnP1cwAx"
      },
      "execution_count": 10,
      "outputs": []
    },
    {
      "cell_type": "code",
      "source": [
        "a"
      ],
      "metadata": {
        "colab": {
          "base_uri": "https://localhost:8080/"
        },
        "id": "Bf4fFF93c4Z8",
        "outputId": "e7b8eb5e-90ff-4feb-8167-9a6d4ba0345a"
      },
      "execution_count": 11,
      "outputs": [
        {
          "output_type": "execute_result",
          "data": {
            "text/plain": [
              "[3, 2, 1]"
            ]
          },
          "metadata": {},
          "execution_count": 11
        }
      ]
    },
    {
      "cell_type": "code",
      "source": [
        "a.sort()"
      ],
      "metadata": {
        "id": "116TFC0Rc5Ky"
      },
      "execution_count": 12,
      "outputs": []
    },
    {
      "cell_type": "code",
      "source": [
        "a"
      ],
      "metadata": {
        "colab": {
          "base_uri": "https://localhost:8080/"
        },
        "id": "D2ONR7BAc6lB",
        "outputId": "f7f8f32b-d61a-4378-eb4b-c07262969e91"
      },
      "execution_count": 13,
      "outputs": [
        {
          "output_type": "execute_result",
          "data": {
            "text/plain": [
              "[1, 2, 3]"
            ]
          },
          "metadata": {},
          "execution_count": 13
        }
      ]
    },
    {
      "cell_type": "code",
      "source": [
        "a.index(1)"
      ],
      "metadata": {
        "colab": {
          "base_uri": "https://localhost:8080/"
        },
        "id": "VmJJbGnlc7FW",
        "outputId": "e04a6854-a190-4954-b210-3fb39d744adf"
      },
      "execution_count": 14,
      "outputs": [
        {
          "output_type": "execute_result",
          "data": {
            "text/plain": [
              "0"
            ]
          },
          "metadata": {},
          "execution_count": 14
        }
      ]
    },
    {
      "cell_type": "code",
      "source": [
        "a.insert(0, 4)"
      ],
      "metadata": {
        "id": "bfV7kyJ6c9FK"
      },
      "execution_count": 15,
      "outputs": []
    },
    {
      "cell_type": "code",
      "source": [
        "a"
      ],
      "metadata": {
        "colab": {
          "base_uri": "https://localhost:8080/"
        },
        "id": "GX4qWxKFdC6s",
        "outputId": "5287a844-f257-4de2-a923-660807e41d28"
      },
      "execution_count": 16,
      "outputs": [
        {
          "output_type": "execute_result",
          "data": {
            "text/plain": [
              "[4, 1, 2, 3]"
            ]
          },
          "metadata": {},
          "execution_count": 16
        }
      ]
    },
    {
      "cell_type": "code",
      "source": [
        "a.remove(4)"
      ],
      "metadata": {
        "id": "nm6V-0VjdDNQ"
      },
      "execution_count": 17,
      "outputs": []
    },
    {
      "cell_type": "code",
      "source": [
        "a"
      ],
      "metadata": {
        "colab": {
          "base_uri": "https://localhost:8080/"
        },
        "id": "o0TG-nWUdJWb",
        "outputId": "6af248aa-3bc2-40a2-cb67-57db12980f53"
      },
      "execution_count": 18,
      "outputs": [
        {
          "output_type": "execute_result",
          "data": {
            "text/plain": [
              "[1, 2, 3]"
            ]
          },
          "metadata": {},
          "execution_count": 18
        }
      ]
    },
    {
      "cell_type": "code",
      "source": [
        "a.pop()"
      ],
      "metadata": {
        "colab": {
          "base_uri": "https://localhost:8080/"
        },
        "id": "L7WL7y2zdJ3y",
        "outputId": "101c9dc0-ce67-4851-f638-f8f140a66c6c"
      },
      "execution_count": 20,
      "outputs": [
        {
          "output_type": "execute_result",
          "data": {
            "text/plain": [
              "3"
            ]
          },
          "metadata": {},
          "execution_count": 20
        }
      ]
    },
    {
      "cell_type": "code",
      "source": [
        "a"
      ],
      "metadata": {
        "colab": {
          "base_uri": "https://localhost:8080/"
        },
        "id": "rB2aHM-ddNcG",
        "outputId": "471d13b7-8172-42c1-c60a-29fa6ef873cc"
      },
      "execution_count": 21,
      "outputs": [
        {
          "output_type": "execute_result",
          "data": {
            "text/plain": [
              "[1, 2]"
            ]
          },
          "metadata": {},
          "execution_count": 21
        }
      ]
    },
    {
      "cell_type": "code",
      "source": [
        "a.append(2)"
      ],
      "metadata": {
        "id": "5ImXyGeYdQQK"
      },
      "execution_count": 22,
      "outputs": []
    },
    {
      "cell_type": "code",
      "source": [
        "a"
      ],
      "metadata": {
        "colab": {
          "base_uri": "https://localhost:8080/"
        },
        "id": "ZbVnVp5FdVv_",
        "outputId": "126ffa9b-eaf4-4327-cf4a-f29c765403e6"
      },
      "execution_count": 23,
      "outputs": [
        {
          "output_type": "execute_result",
          "data": {
            "text/plain": [
              "[1, 2, 2]"
            ]
          },
          "metadata": {},
          "execution_count": 23
        }
      ]
    },
    {
      "cell_type": "code",
      "source": [
        "a.count(2)"
      ],
      "metadata": {
        "colab": {
          "base_uri": "https://localhost:8080/"
        },
        "id": "uPRO7KcndWXv",
        "outputId": "47d801e3-16b0-472a-8493-c6d02f47560f"
      },
      "execution_count": 24,
      "outputs": [
        {
          "output_type": "execute_result",
          "data": {
            "text/plain": [
              "2"
            ]
          },
          "metadata": {},
          "execution_count": 24
        }
      ]
    },
    {
      "cell_type": "code",
      "source": [
        "a.count(1)"
      ],
      "metadata": {
        "colab": {
          "base_uri": "https://localhost:8080/"
        },
        "id": "d0rBZmBvdYFV",
        "outputId": "47f5beec-4ace-41b9-f3ae-0b150a884cae"
      },
      "execution_count": 25,
      "outputs": [
        {
          "output_type": "execute_result",
          "data": {
            "text/plain": [
              "1"
            ]
          },
          "metadata": {},
          "execution_count": 25
        }
      ]
    },
    {
      "cell_type": "code",
      "source": [
        "a.extend([7, 7, 8])"
      ],
      "metadata": {
        "id": "G_mp74FbdZ90"
      },
      "execution_count": 26,
      "outputs": []
    },
    {
      "cell_type": "code",
      "source": [
        "a"
      ],
      "metadata": {
        "colab": {
          "base_uri": "https://localhost:8080/"
        },
        "id": "Ri6cjDNPdhlu",
        "outputId": "fc9079fa-84b7-491d-cf5d-78d1cc84f3ab"
      },
      "execution_count": 27,
      "outputs": [
        {
          "output_type": "execute_result",
          "data": {
            "text/plain": [
              "[1, 2, 2, 7, 7, 8]"
            ]
          },
          "metadata": {},
          "execution_count": 27
        }
      ]
    },
    {
      "cell_type": "code",
      "source": [
        "t1 = ()"
      ],
      "metadata": {
        "id": "V1-T_CrbdiJR"
      },
      "execution_count": 28,
      "outputs": []
    },
    {
      "cell_type": "code",
      "source": [
        "t2 = (1,2,3)"
      ],
      "metadata": {
        "id": "HSWD1sSCd9Tu"
      },
      "execution_count": 29,
      "outputs": []
    },
    {
      "cell_type": "code",
      "source": [
        "t3 = (1,2,(1,2,3),[4,5,6])"
      ],
      "metadata": {
        "id": "8-UqyY95d-fi"
      },
      "execution_count": 30,
      "outputs": []
    },
    {
      "cell_type": "code",
      "source": [
        "a = {1:\"a\", 2:\"b\", 3:\"c\"}"
      ],
      "metadata": {
        "id": "ZzWIfJGQeCc7"
      },
      "execution_count": 31,
      "outputs": []
    },
    {
      "cell_type": "code",
      "source": [
        "a.keys()"
      ],
      "metadata": {
        "colab": {
          "base_uri": "https://localhost:8080/"
        },
        "id": "H8qwHVXj67lu",
        "outputId": "67028ec7-8f1e-48f3-e36d-0713bd8cf2ee"
      },
      "execution_count": 33,
      "outputs": [
        {
          "output_type": "execute_result",
          "data": {
            "text/plain": [
              "dict_keys([1, 2, 3])"
            ]
          },
          "metadata": {},
          "execution_count": 33
        }
      ]
    },
    {
      "cell_type": "code",
      "source": [
        "a.values()\n",
        "l = list(a.keys())"
      ],
      "metadata": {
        "id": "dcfIAHN268cZ"
      },
      "execution_count": 34,
      "outputs": []
    },
    {
      "cell_type": "code",
      "source": [
        "l"
      ],
      "metadata": {
        "colab": {
          "base_uri": "https://localhost:8080/"
        },
        "id": "yVnuAX037BDm",
        "outputId": "90386557-e97b-4e9c-b942-4ef0b62c64e6"
      },
      "execution_count": 35,
      "outputs": [
        {
          "output_type": "execute_result",
          "data": {
            "text/plain": [
              "[1, 2, 3]"
            ]
          },
          "metadata": {},
          "execution_count": 35
        }
      ]
    },
    {
      "cell_type": "code",
      "source": [
        "l_val = list(a.values())"
      ],
      "metadata": {
        "id": "X9SsGSVm7BWt"
      },
      "execution_count": 36,
      "outputs": []
    },
    {
      "cell_type": "code",
      "source": [
        "l_val"
      ],
      "metadata": {
        "colab": {
          "base_uri": "https://localhost:8080/"
        },
        "id": "XL8V-IBs7HK2",
        "outputId": "2bd5b0df-b5af-41e1-a971-5e81ba807df0"
      },
      "execution_count": 37,
      "outputs": [
        {
          "output_type": "execute_result",
          "data": {
            "text/plain": [
              "['a', 'b', 'c']"
            ]
          },
          "metadata": {},
          "execution_count": 37
        }
      ]
    },
    {
      "cell_type": "code",
      "source": [
        "del a[1]"
      ],
      "metadata": {
        "id": "-SWzcQCw7IQz"
      },
      "execution_count": 38,
      "outputs": []
    },
    {
      "cell_type": "code",
      "source": [
        "a"
      ],
      "metadata": {
        "colab": {
          "base_uri": "https://localhost:8080/"
        },
        "id": "a5hGCQt37MPP",
        "outputId": "e003b577-80dc-4cf0-dac0-12e6dc5c428d"
      },
      "execution_count": 39,
      "outputs": [
        {
          "output_type": "execute_result",
          "data": {
            "text/plain": [
              "{2: 'b', 3: 'c'}"
            ]
          },
          "metadata": {},
          "execution_count": 39
        }
      ]
    },
    {
      "cell_type": "code",
      "source": [
        "a.items()"
      ],
      "metadata": {
        "colab": {
          "base_uri": "https://localhost:8080/"
        },
        "id": "vTqaB1Cd7M1l",
        "outputId": "ecb19628-3135-499b-9e7f-163ba18f989d"
      },
      "execution_count": 40,
      "outputs": [
        {
          "output_type": "execute_result",
          "data": {
            "text/plain": [
              "dict_items([(2, 'b'), (3, 'c')])"
            ]
          },
          "metadata": {},
          "execution_count": 40
        }
      ]
    },
    {
      "cell_type": "code",
      "source": [
        "a = [1,2,3,4,5,55]"
      ],
      "metadata": {
        "id": "1rsr1NHF7Sjo"
      },
      "execution_count": 41,
      "outputs": []
    },
    {
      "cell_type": "code",
      "source": [
        "set(a)"
      ],
      "metadata": {
        "colab": {
          "base_uri": "https://localhost:8080/"
        },
        "id": "etdCo3Ln7pBX",
        "outputId": "1d90c228-5399-4408-f3c7-645e9c69efd5"
      },
      "execution_count": 42,
      "outputs": [
        {
          "output_type": "execute_result",
          "data": {
            "text/plain": [
              "{1, 2, 3, 4, 5, 55}"
            ]
          },
          "metadata": {},
          "execution_count": 42
        }
      ]
    },
    {
      "cell_type": "code",
      "source": [
        "tuple(a)"
      ],
      "metadata": {
        "colab": {
          "base_uri": "https://localhost:8080/"
        },
        "id": "4H_XSxJF7qVZ",
        "outputId": "3ecdc9c8-dcf5-412f-df19-f35959936733"
      },
      "execution_count": 43,
      "outputs": [
        {
          "output_type": "execute_result",
          "data": {
            "text/plain": [
              "(1, 2, 3, 4, 5, 55)"
            ]
          },
          "metadata": {},
          "execution_count": 43
        }
      ]
    },
    {
      "cell_type": "code",
      "source": [
        "b = 'salom'"
      ],
      "metadata": {
        "id": "T3kgcry17sqX"
      },
      "execution_count": 44,
      "outputs": []
    },
    {
      "cell_type": "code",
      "source": [
        "set(b)"
      ],
      "metadata": {
        "colab": {
          "base_uri": "https://localhost:8080/"
        },
        "id": "UrBZOQFm7veB",
        "outputId": "54c3630b-6d21-4b22-ab2c-c672ac913582"
      },
      "execution_count": 45,
      "outputs": [
        {
          "output_type": "execute_result",
          "data": {
            "text/plain": [
              "{'a', 'l', 'm', 'o', 's'}"
            ]
          },
          "metadata": {},
          "execution_count": 45
        }
      ]
    },
    {
      "cell_type": "code",
      "source": [
        "tuple(a)"
      ],
      "metadata": {
        "colab": {
          "base_uri": "https://localhost:8080/"
        },
        "id": "KSgtvDeq7xWH",
        "outputId": "81e0e01e-7e14-41e2-fc51-5c9dfe553c8c"
      },
      "execution_count": 46,
      "outputs": [
        {
          "output_type": "execute_result",
          "data": {
            "text/plain": [
              "(1, 2, 3, 4, 5, 55)"
            ]
          },
          "metadata": {},
          "execution_count": 46
        }
      ]
    },
    {
      "cell_type": "code",
      "source": [
        "tuple(b)"
      ],
      "metadata": {
        "colab": {
          "base_uri": "https://localhost:8080/"
        },
        "id": "LHM70rpQ7zR8",
        "outputId": "12d6c3ad-7e7b-4953-fbfa-b8455a0e30fd"
      },
      "execution_count": 47,
      "outputs": [
        {
          "output_type": "execute_result",
          "data": {
            "text/plain": [
              "('s', 'a', 'l', 'o', 'm')"
            ]
          },
          "metadata": {},
          "execution_count": 47
        }
      ]
    },
    {
      "cell_type": "code",
      "source": [
        "set1 = {1,2,3,4,5,6}"
      ],
      "metadata": {
        "id": "Vr43Otdk71Dl"
      },
      "execution_count": 48,
      "outputs": []
    },
    {
      "cell_type": "code",
      "source": [
        "set2 = {3,4,5,6,7,8,9}"
      ],
      "metadata": {
        "id": "E_G9frax8Piq"
      },
      "execution_count": 49,
      "outputs": []
    },
    {
      "cell_type": "code",
      "source": [
        "set1 & set2"
      ],
      "metadata": {
        "colab": {
          "base_uri": "https://localhost:8080/"
        },
        "id": "acUq8Gn48R_c",
        "outputId": "b1397ae8-e318-40f9-ff3e-192f570c0bf3"
      },
      "execution_count": 50,
      "outputs": [
        {
          "output_type": "execute_result",
          "data": {
            "text/plain": [
              "{3, 4, 5, 6}"
            ]
          },
          "metadata": {},
          "execution_count": 50
        }
      ]
    },
    {
      "cell_type": "code",
      "source": [
        "set1 or set2"
      ],
      "metadata": {
        "colab": {
          "base_uri": "https://localhost:8080/"
        },
        "id": "wuMT413v8UBz",
        "outputId": "04890eac-c422-4598-c09b-0f1aa53ace08"
      },
      "execution_count": 51,
      "outputs": [
        {
          "output_type": "execute_result",
          "data": {
            "text/plain": [
              "{1, 2, 3, 4, 5, 6}"
            ]
          },
          "metadata": {},
          "execution_count": 51
        }
      ]
    },
    {
      "cell_type": "code",
      "source": [
        "set1"
      ],
      "metadata": {
        "colab": {
          "base_uri": "https://localhost:8080/"
        },
        "id": "kPBGtHka8XUC",
        "outputId": "3e7ef592-e8b1-4094-b46c-2043617757bc"
      },
      "execution_count": 52,
      "outputs": [
        {
          "output_type": "execute_result",
          "data": {
            "text/plain": [
              "{1, 2, 3, 4, 5, 6}"
            ]
          },
          "metadata": {},
          "execution_count": 52
        }
      ]
    },
    {
      "cell_type": "code",
      "source": [
        "set2"
      ],
      "metadata": {
        "colab": {
          "base_uri": "https://localhost:8080/"
        },
        "id": "H7igNDXd8dfx",
        "outputId": "3b7030ba-189a-4a51-a7e9-f433ee0a78d5"
      },
      "execution_count": 53,
      "outputs": [
        {
          "output_type": "execute_result",
          "data": {
            "text/plain": [
              "{3, 4, 5, 6, 7, 8, 9}"
            ]
          },
          "metadata": {},
          "execution_count": 53
        }
      ]
    },
    {
      "cell_type": "code",
      "source": [
        "set1.union(set2)"
      ],
      "metadata": {
        "colab": {
          "base_uri": "https://localhost:8080/"
        },
        "id": "JWXDVd498eIN",
        "outputId": "13f654ec-5817-421a-c29d-decbc1af8230"
      },
      "execution_count": 54,
      "outputs": [
        {
          "output_type": "execute_result",
          "data": {
            "text/plain": [
              "{1, 2, 3, 4, 5, 6, 7, 8, 9}"
            ]
          },
          "metadata": {},
          "execution_count": 54
        }
      ]
    },
    {
      "cell_type": "code",
      "source": [
        "set1- set2"
      ],
      "metadata": {
        "colab": {
          "base_uri": "https://localhost:8080/"
        },
        "id": "m0K_4fIY8pRt",
        "outputId": "f81cfa6a-1995-4ed5-eea8-ac6bbf23d2e1"
      },
      "execution_count": 55,
      "outputs": [
        {
          "output_type": "execute_result",
          "data": {
            "text/plain": [
              "{1, 2}"
            ]
          },
          "metadata": {},
          "execution_count": 55
        }
      ]
    },
    {
      "cell_type": "code",
      "source": [
        "set2 - set1"
      ],
      "metadata": {
        "colab": {
          "base_uri": "https://localhost:8080/"
        },
        "id": "BA5680JN8tfG",
        "outputId": "404d99f4-222b-4315-94a4-bb494e56a269"
      },
      "execution_count": 56,
      "outputs": [
        {
          "output_type": "execute_result",
          "data": {
            "text/plain": [
              "{7, 8, 9}"
            ]
          },
          "metadata": {},
          "execution_count": 56
        }
      ]
    },
    {
      "cell_type": "code",
      "source": [
        "set1.difference(set2)"
      ],
      "metadata": {
        "colab": {
          "base_uri": "https://localhost:8080/"
        },
        "id": "Oq52mJWy80y1",
        "outputId": "af79db67-4695-48d0-b096-90d8057d9ede"
      },
      "execution_count": 57,
      "outputs": [
        {
          "output_type": "execute_result",
          "data": {
            "text/plain": [
              "{1, 2}"
            ]
          },
          "metadata": {},
          "execution_count": 57
        }
      ]
    },
    {
      "cell_type": "code",
      "source": [
        "set2.difference(set1)"
      ],
      "metadata": {
        "colab": {
          "base_uri": "https://localhost:8080/"
        },
        "id": "_AjTuWX685rg",
        "outputId": "8de1db62-1726-4fda-ccf8-269121219ddd"
      },
      "execution_count": 58,
      "outputs": [
        {
          "output_type": "execute_result",
          "data": {
            "text/plain": [
              "{7, 8, 9}"
            ]
          },
          "metadata": {},
          "execution_count": 58
        }
      ]
    },
    {
      "cell_type": "code",
      "source": [
        "set1.update([0, 9])"
      ],
      "metadata": {
        "id": "evZPlEd79CWl"
      },
      "execution_count": 60,
      "outputs": []
    },
    {
      "cell_type": "code",
      "source": [
        "set2.remove(9)"
      ],
      "metadata": {
        "id": "3M7OvEi_9RMi"
      },
      "execution_count": 61,
      "outputs": []
    },
    {
      "cell_type": "code",
      "source": [
        "set2"
      ],
      "metadata": {
        "colab": {
          "base_uri": "https://localhost:8080/"
        },
        "id": "km7Wrfbp9eWO",
        "outputId": "b777dc9c-3b2d-4859-a66d-b837f44b74c0"
      },
      "execution_count": 62,
      "outputs": [
        {
          "output_type": "execute_result",
          "data": {
            "text/plain": [
              "{3, 4, 5, 6, 7, 8}"
            ]
          },
          "metadata": {},
          "execution_count": 62
        }
      ]
    },
    {
      "cell_type": "code",
      "source": [
        "a = [1,2,3]"
      ],
      "metadata": {
        "id": "fq_pzwRe9fqV"
      },
      "execution_count": 63,
      "outputs": []
    },
    {
      "cell_type": "code",
      "source": [
        "id(a)"
      ],
      "metadata": {
        "colab": {
          "base_uri": "https://localhost:8080/"
        },
        "id": "E5InZroh9lsB",
        "outputId": "e383f19b-ea3c-4c87-e217-73451545f7e4"
      },
      "execution_count": 64,
      "outputs": [
        {
          "output_type": "execute_result",
          "data": {
            "text/plain": [
              "140570571375936"
            ]
          },
          "metadata": {},
          "execution_count": 64
        }
      ]
    },
    {
      "cell_type": "code",
      "source": [
        "b = a"
      ],
      "metadata": {
        "id": "dG2n0rpl9mXs"
      },
      "execution_count": 65,
      "outputs": []
    },
    {
      "cell_type": "code",
      "source": [
        "id(b)"
      ],
      "metadata": {
        "colab": {
          "base_uri": "https://localhost:8080/"
        },
        "id": "h0gUGXxO9pC5",
        "outputId": "52569907-2794-450d-b7fa-438092bea767"
      },
      "execution_count": 66,
      "outputs": [
        {
          "output_type": "execute_result",
          "data": {
            "text/plain": [
              "140570571375936"
            ]
          },
          "metadata": {},
          "execution_count": 66
        }
      ]
    },
    {
      "cell_type": "code",
      "source": [
        "a == b"
      ],
      "metadata": {
        "colab": {
          "base_uri": "https://localhost:8080/"
        },
        "id": "bQ_3A2kK9puc",
        "outputId": "8d6edfc0-c169-4d55-9f44-ffadd3eff859"
      },
      "execution_count": 67,
      "outputs": [
        {
          "output_type": "execute_result",
          "data": {
            "text/plain": [
              "True"
            ]
          },
          "metadata": {},
          "execution_count": 67
        }
      ]
    },
    {
      "cell_type": "code",
      "source": [
        "class_list = [\"a\", \"b\", \"c\"]"
      ],
      "metadata": {
        "id": "srFAbFc49q_P"
      },
      "execution_count": 68,
      "outputs": []
    },
    {
      "cell_type": "code",
      "source": [
        "for i in class_list:\n",
        "  print(i)"
      ],
      "metadata": {
        "colab": {
          "base_uri": "https://localhost:8080/"
        },
        "id": "alwXeZ8Q_HNv",
        "outputId": "d226ce83-2cf2-4acc-ddff-bc4d769ad564"
      },
      "execution_count": 69,
      "outputs": [
        {
          "output_type": "stream",
          "name": "stdout",
          "text": [
            "a\n",
            "b\n",
            "c\n"
          ]
        }
      ]
    },
    {
      "cell_type": "code",
      "source": [
        "for i, class_name in enumerate(class_list):\n",
        "  print(\"%d Class: %s\" %(i, class_name))"
      ],
      "metadata": {
        "colab": {
          "base_uri": "https://localhost:8080/"
        },
        "id": "BxmkxndX_J-_",
        "outputId": "e801a457-805d-4182-c45d-deb849363dc7"
      },
      "execution_count": 70,
      "outputs": [
        {
          "output_type": "stream",
          "name": "stdout",
          "text": [
            "0 Class: a\n",
            "1 Class: b\n",
            "2 Class: c\n"
          ]
        }
      ]
    },
    {
      "cell_type": "code",
      "source": [
        "multiply = [i*j for i in range(2, 10) for j in range(1, 10)]"
      ],
      "metadata": {
        "id": "qWnGPLeb_tqt"
      },
      "execution_count": 72,
      "outputs": []
    },
    {
      "cell_type": "code",
      "source": [
        "multiply"
      ],
      "metadata": {
        "colab": {
          "base_uri": "https://localhost:8080/"
        },
        "id": "N3gwjqeXAlXn",
        "outputId": "6cca9e7c-02a1-4134-8303-f1a305172c37"
      },
      "execution_count": 73,
      "outputs": [
        {
          "output_type": "execute_result",
          "data": {
            "text/plain": [
              "[2,\n",
              " 4,\n",
              " 6,\n",
              " 8,\n",
              " 10,\n",
              " 12,\n",
              " 14,\n",
              " 16,\n",
              " 18,\n",
              " 3,\n",
              " 6,\n",
              " 9,\n",
              " 12,\n",
              " 15,\n",
              " 18,\n",
              " 21,\n",
              " 24,\n",
              " 27,\n",
              " 4,\n",
              " 8,\n",
              " 12,\n",
              " 16,\n",
              " 20,\n",
              " 24,\n",
              " 28,\n",
              " 32,\n",
              " 36,\n",
              " 5,\n",
              " 10,\n",
              " 15,\n",
              " 20,\n",
              " 25,\n",
              " 30,\n",
              " 35,\n",
              " 40,\n",
              " 45,\n",
              " 6,\n",
              " 12,\n",
              " 18,\n",
              " 24,\n",
              " 30,\n",
              " 36,\n",
              " 42,\n",
              " 48,\n",
              " 54,\n",
              " 7,\n",
              " 14,\n",
              " 21,\n",
              " 28,\n",
              " 35,\n",
              " 42,\n",
              " 49,\n",
              " 56,\n",
              " 63,\n",
              " 8,\n",
              " 16,\n",
              " 24,\n",
              " 32,\n",
              " 40,\n",
              " 48,\n",
              " 56,\n",
              " 64,\n",
              " 72,\n",
              " 9,\n",
              " 18,\n",
              " 27,\n",
              " 36,\n",
              " 45,\n",
              " 54,\n",
              " 63,\n",
              " 72,\n",
              " 81]"
            ]
          },
          "metadata": {},
          "execution_count": 73
        }
      ]
    },
    {
      "cell_type": "code",
      "source": [
        "add = lambda a,b:a+b"
      ],
      "metadata": {
        "id": "mF5unKd2ApKF"
      },
      "execution_count": 74,
      "outputs": []
    },
    {
      "cell_type": "code",
      "source": [
        "add(3,4)"
      ],
      "metadata": {
        "colab": {
          "base_uri": "https://localhost:8080/"
        },
        "id": "bLIo28PKBeUz",
        "outputId": "0ad80c70-cee6-4e13-c711-7244d2924831"
      },
      "execution_count": 75,
      "outputs": [
        {
          "output_type": "execute_result",
          "data": {
            "text/plain": [
              "7"
            ]
          },
          "metadata": {},
          "execution_count": 75
        }
      ]
    },
    {
      "cell_type": "code",
      "source": [
        "def square(a):\n",
        "  return a**2"
      ],
      "metadata": {
        "id": "pobLSL-1BgZH"
      },
      "execution_count": 76,
      "outputs": []
    },
    {
      "cell_type": "code",
      "source": [
        "square(2)"
      ],
      "metadata": {
        "colab": {
          "base_uri": "https://localhost:8080/"
        },
        "id": "zQ96BLHNB7Ok",
        "outputId": "1b628b7f-d42f-4f14-c726-0b9ac48f1f3e"
      },
      "execution_count": 77,
      "outputs": [
        {
          "output_type": "execute_result",
          "data": {
            "text/plain": [
              "4"
            ]
          },
          "metadata": {},
          "execution_count": 77
        }
      ]
    },
    {
      "cell_type": "code",
      "source": [
        "A = map(square, [1,2,3,4,5])"
      ],
      "metadata": {
        "id": "k8-MuZ-WB9_H"
      },
      "execution_count": 78,
      "outputs": []
    },
    {
      "cell_type": "code",
      "source": [
        "A"
      ],
      "metadata": {
        "colab": {
          "base_uri": "https://localhost:8080/"
        },
        "id": "6ckfRnwoCF9J",
        "outputId": "b96857bb-ab49-482a-843d-d5d6f38a3d01"
      },
      "execution_count": 79,
      "outputs": [
        {
          "output_type": "execute_result",
          "data": {
            "text/plain": [
              "<map at 0x7fd922f2fd30>"
            ]
          },
          "metadata": {},
          "execution_count": 79
        }
      ]
    },
    {
      "cell_type": "code",
      "source": [
        "A()"
      ],
      "metadata": {
        "colab": {
          "base_uri": "https://localhost:8080/",
          "height": 169
        },
        "id": "VjU6195dCGpf",
        "outputId": "c0a2f0db-93d4-4bdb-f1ff-c553052872f6"
      },
      "execution_count": 80,
      "outputs": [
        {
          "output_type": "error",
          "ename": "TypeError",
          "evalue": "ignored",
          "traceback": [
            "\u001b[0;31m---------------------------------------------------------------------------\u001b[0m",
            "\u001b[0;31mTypeError\u001b[0m                                 Traceback (most recent call last)",
            "\u001b[0;32m<ipython-input-80-6234893e030b>\u001b[0m in \u001b[0;36m<module>\u001b[0;34m\u001b[0m\n\u001b[0;32m----> 1\u001b[0;31m \u001b[0mA\u001b[0m\u001b[0;34m(\u001b[0m\u001b[0;34m)\u001b[0m\u001b[0;34m\u001b[0m\u001b[0;34m\u001b[0m\u001b[0m\n\u001b[0m",
            "\u001b[0;31mTypeError\u001b[0m: 'map' object is not callable"
          ]
        }
      ]
    },
    {
      "cell_type": "code",
      "source": [
        "list(A)"
      ],
      "metadata": {
        "colab": {
          "base_uri": "https://localhost:8080/"
        },
        "id": "NwdO00-zCIBk",
        "outputId": "7861b600-14ee-4356-b5f4-27c1eece6bf4"
      },
      "execution_count": 81,
      "outputs": [
        {
          "output_type": "execute_result",
          "data": {
            "text/plain": [
              "[1, 4, 9, 16, 25]"
            ]
          },
          "metadata": {},
          "execution_count": 81
        }
      ]
    },
    {
      "cell_type": "code",
      "source": [
        "a = input()"
      ],
      "metadata": {
        "colab": {
          "base_uri": "https://localhost:8080/"
        },
        "id": "D9rYGBeGCL-W",
        "outputId": "ea436f12-590f-4ef8-de8e-c40fd02e74a6"
      },
      "execution_count": 82,
      "outputs": [
        {
          "name": "stdout",
          "output_type": "stream",
          "text": [
            "asdasdasd\n"
          ]
        }
      ]
    },
    {
      "cell_type": "code",
      "source": [
        "a"
      ],
      "metadata": {
        "colab": {
          "base_uri": "https://localhost:8080/",
          "height": 35
        },
        "id": "MIzfpDqsCTHa",
        "outputId": "485abed8-5b60-4397-ab3c-50cbd86aed2b"
      },
      "execution_count": 83,
      "outputs": [
        {
          "output_type": "execute_result",
          "data": {
            "text/plain": [
              "'asdasdasd'"
            ],
            "application/vnd.google.colaboratory.intrinsic+json": {
              "type": "string"
            }
          },
          "metadata": {},
          "execution_count": 83
        }
      ]
    },
    {
      "cell_type": "code",
      "source": [
        "b = \"hello\""
      ],
      "metadata": {
        "id": "pitcddZjCXoS"
      },
      "execution_count": 84,
      "outputs": []
    },
    {
      "cell_type": "code",
      "source": [
        "dir(b)"
      ],
      "metadata": {
        "colab": {
          "base_uri": "https://localhost:8080/"
        },
        "id": "Z_4G8ltvD3Yo",
        "outputId": "0697f3bf-b9f5-4076-df28-6c38f27570a5"
      },
      "execution_count": 85,
      "outputs": [
        {
          "output_type": "execute_result",
          "data": {
            "text/plain": [
              "['__add__',\n",
              " '__class__',\n",
              " '__contains__',\n",
              " '__delattr__',\n",
              " '__dir__',\n",
              " '__doc__',\n",
              " '__eq__',\n",
              " '__format__',\n",
              " '__ge__',\n",
              " '__getattribute__',\n",
              " '__getitem__',\n",
              " '__getnewargs__',\n",
              " '__gt__',\n",
              " '__hash__',\n",
              " '__init__',\n",
              " '__init_subclass__',\n",
              " '__iter__',\n",
              " '__le__',\n",
              " '__len__',\n",
              " '__lt__',\n",
              " '__mod__',\n",
              " '__mul__',\n",
              " '__ne__',\n",
              " '__new__',\n",
              " '__reduce__',\n",
              " '__reduce_ex__',\n",
              " '__repr__',\n",
              " '__rmod__',\n",
              " '__rmul__',\n",
              " '__setattr__',\n",
              " '__sizeof__',\n",
              " '__str__',\n",
              " '__subclasshook__',\n",
              " 'capitalize',\n",
              " 'casefold',\n",
              " 'center',\n",
              " 'count',\n",
              " 'encode',\n",
              " 'endswith',\n",
              " 'expandtabs',\n",
              " 'find',\n",
              " 'format',\n",
              " 'format_map',\n",
              " 'index',\n",
              " 'isalnum',\n",
              " 'isalpha',\n",
              " 'isascii',\n",
              " 'isdecimal',\n",
              " 'isdigit',\n",
              " 'isidentifier',\n",
              " 'islower',\n",
              " 'isnumeric',\n",
              " 'isprintable',\n",
              " 'isspace',\n",
              " 'istitle',\n",
              " 'isupper',\n",
              " 'join',\n",
              " 'ljust',\n",
              " 'lower',\n",
              " 'lstrip',\n",
              " 'maketrans',\n",
              " 'partition',\n",
              " 'removeprefix',\n",
              " 'removesuffix',\n",
              " 'replace',\n",
              " 'rfind',\n",
              " 'rindex',\n",
              " 'rjust',\n",
              " 'rpartition',\n",
              " 'rsplit',\n",
              " 'rstrip',\n",
              " 'split',\n",
              " 'splitlines',\n",
              " 'startswith',\n",
              " 'strip',\n",
              " 'swapcase',\n",
              " 'title',\n",
              " 'translate',\n",
              " 'upper',\n",
              " 'zfill']"
            ]
          },
          "metadata": {},
          "execution_count": 85
        }
      ]
    },
    {
      "cell_type": "code",
      "source": [
        "a.zfill(10)"
      ],
      "metadata": {
        "colab": {
          "base_uri": "https://localhost:8080/",
          "height": 35
        },
        "id": "eDpSnyv8ECtD",
        "outputId": "94ce0ddb-bd14-4d6d-f81c-79c69f89d1b4"
      },
      "execution_count": 86,
      "outputs": [
        {
          "output_type": "execute_result",
          "data": {
            "text/plain": [
              "'0asdasdasd'"
            ],
            "application/vnd.google.colaboratory.intrinsic+json": {
              "type": "string"
            }
          },
          "metadata": {},
          "execution_count": 86
        }
      ]
    },
    {
      "cell_type": "code",
      "source": [
        "b.zfill(10)"
      ],
      "metadata": {
        "colab": {
          "base_uri": "https://localhost:8080/",
          "height": 35
        },
        "id": "KLI3kAjPD4Ho",
        "outputId": "eff81679-2040-4ba4-909b-3f9e6e3659e9"
      },
      "execution_count": 87,
      "outputs": [
        {
          "output_type": "execute_result",
          "data": {
            "text/plain": [
              "'00000hello'"
            ],
            "application/vnd.google.colaboratory.intrinsic+json": {
              "type": "string"
            }
          },
          "metadata": {},
          "execution_count": 87
        }
      ]
    },
    {
      "cell_type": "code",
      "source": [
        "eval(\"1+4\")"
      ],
      "metadata": {
        "colab": {
          "base_uri": "https://localhost:8080/"
        },
        "id": "qqYxoLFFEJDe",
        "outputId": "a6fc141a-15ee-4e80-914e-8d6b600daaa5"
      },
      "execution_count": 88,
      "outputs": [
        {
          "output_type": "execute_result",
          "data": {
            "text/plain": [
              "5"
            ]
          },
          "metadata": {},
          "execution_count": 88
        }
      ]
    },
    {
      "cell_type": "code",
      "source": [
        "import os"
      ],
      "metadata": {
        "id": "FSmJKOxZEgc1"
      },
      "execution_count": 89,
      "outputs": []
    },
    {
      "cell_type": "code",
      "source": [
        "path = os.getcwd()"
      ],
      "metadata": {
        "id": "jlpWKKs1NU8G"
      },
      "execution_count": 90,
      "outputs": []
    },
    {
      "cell_type": "code",
      "source": [
        "path"
      ],
      "metadata": {
        "colab": {
          "base_uri": "https://localhost:8080/",
          "height": 35
        },
        "id": "hQ4V1e-MNZQc",
        "outputId": "3944ae7f-5a92-499e-f966-ee3ec154c88a"
      },
      "execution_count": 91,
      "outputs": [
        {
          "output_type": "execute_result",
          "data": {
            "text/plain": [
              "'/content'"
            ],
            "application/vnd.google.colaboratory.intrinsic+json": {
              "type": "string"
            }
          },
          "metadata": {},
          "execution_count": 91
        }
      ]
    },
    {
      "cell_type": "code",
      "source": [
        "os.environ"
      ],
      "metadata": {
        "colab": {
          "base_uri": "https://localhost:8080/"
        },
        "id": "zGp7imkhNZ2J",
        "outputId": "ac30cdd4-682f-4575-8494-421eba1ef8b0"
      },
      "execution_count": 92,
      "outputs": [
        {
          "output_type": "execute_result",
          "data": {
            "text/plain": [
              "environ{'SHELL': '/bin/bash',\n",
              "        'NV_LIBCUBLAS_VERSION': '11.11.3.6-1',\n",
              "        'NVIDIA_VISIBLE_DEVICES': 'all',\n",
              "        'COLAB_JUPYTER_TRANSPORT': 'ipc',\n",
              "        'NV_NVML_DEV_VERSION': '11.8.86-1',\n",
              "        'NV_CUDNN_PACKAGE_NAME': 'libcudnn8',\n",
              "        'CGROUP_MEMORY_EVENTS': '/sys/fs/cgroup/memory.events /var/colab/cgroup/jupyter-children/memory.events',\n",
              "        'NV_LIBNCCL_DEV_PACKAGE': 'libnccl-dev=2.16.2-1+cuda11.8',\n",
              "        'NV_LIBNCCL_DEV_PACKAGE_VERSION': '2.16.2-1',\n",
              "        'VM_GCE_METADATA_HOST': '169.254.169.253',\n",
              "        'HOSTNAME': 'aeb4ecd36488',\n",
              "        'TBE_RUNTIME_ADDR': '172.28.0.1:8011',\n",
              "        'GCE_METADATA_TIMEOUT': '3',\n",
              "        'NVIDIA_REQUIRE_CUDA': 'cuda>=11.8 brand=tesla,driver>=450,driver<451 brand=tesla,driver>=470,driver<471 brand=unknown,driver>=470,driver<471 brand=nvidia,driver>=470,driver<471 brand=nvidiartx,driver>=470,driver<471 brand=geforce,driver>=470,driver<471 brand=geforcertx,driver>=470,driver<471 brand=quadro,driver>=470,driver<471 brand=quadrortx,driver>=470,driver<471 brand=titan,driver>=470,driver<471 brand=titanrtx,driver>=470,driver<471 brand=tesla,driver>=510,driver<511 brand=unknown,driver>=510,driver<511 brand=nvidia,driver>=510,driver<511 brand=nvidiartx,driver>=510,driver<511 brand=geforce,driver>=510,driver<511 brand=geforcertx,driver>=510,driver<511 brand=quadro,driver>=510,driver<511 brand=quadrortx,driver>=510,driver<511 brand=titan,driver>=510,driver<511 brand=titanrtx,driver>=510,driver<511 brand=tesla,driver>=515,driver<516 brand=unknown,driver>=515,driver<516 brand=nvidia,driver>=515,driver<516 brand=nvidiartx,driver>=515,driver<516 brand=geforce,driver>=515,driver<516 brand=geforcertx,driver>=515,driver<516 brand=quadro,driver>=515,driver<516 brand=quadrortx,driver>=515,driver<516 brand=titan,driver>=515,driver<516 brand=titanrtx,driver>=515,driver<516',\n",
              "        'NV_LIBCUBLAS_DEV_PACKAGE': 'libcublas-dev-11-8=11.11.3.6-1',\n",
              "        'NV_NVTX_VERSION': '11.8.86-1',\n",
              "        'COLAB_JUPYTER_IP': '172.28.0.12',\n",
              "        'NV_CUDA_CUDART_DEV_VERSION': '11.8.89-1',\n",
              "        'NV_LIBCUSPARSE_VERSION': '11.7.5.86-1',\n",
              "        'NV_LIBNPP_VERSION': '11.8.0.86-1',\n",
              "        'NCCL_VERSION': '2.16.2-1',\n",
              "        'KMP_LISTEN_PORT': '6000',\n",
              "        'TF_FORCE_GPU_ALLOW_GROWTH': 'true',\n",
              "        'ENV': '/root/.bashrc',\n",
              "        'PWD': '/',\n",
              "        'TBE_EPHEM_CREDS_ADDR': '172.28.0.1:8009',\n",
              "        'TBE_CREDS_ADDR': '172.28.0.1:8008',\n",
              "        'NV_CUDNN_PACKAGE': 'libcudnn8=8.7.0.84-1+cuda11.8',\n",
              "        'NVIDIA_DRIVER_CAPABILITIES': 'compute,utility',\n",
              "        'LAST_FORCED_REBUILD': '20230303',\n",
              "        'NV_NVPROF_DEV_PACKAGE': 'cuda-nvprof-11-8=11.8.87-1',\n",
              "        'NV_LIBNPP_PACKAGE': 'libnpp-11-8=11.8.0.86-1',\n",
              "        'NV_LIBNCCL_DEV_PACKAGE_NAME': 'libnccl-dev',\n",
              "        'TCLLIBPATH': '/usr/share/tcltk/tcllib1.20',\n",
              "        'NV_LIBCUBLAS_DEV_VERSION': '11.11.3.6-1',\n",
              "        'NVIDIA_PRODUCT_NAME': 'CUDA',\n",
              "        'COLAB_KERNEL_MANAGER_PROXY_HOST': '172.28.0.12',\n",
              "        'NV_LIBCUBLAS_DEV_PACKAGE_NAME': 'libcublas-dev-11-8',\n",
              "        'NV_CUDA_CUDART_VERSION': '11.8.89-1',\n",
              "        'HOME': '/root',\n",
              "        'LANG': 'en_US.UTF-8',\n",
              "        'CUDA_VERSION': '11.8.0',\n",
              "        'CLOUDSDK_CONFIG': '/content/.config',\n",
              "        'NV_LIBCUBLAS_PACKAGE': 'libcublas-11-8=11.11.3.6-1',\n",
              "        'COLAB_RELEASE_TAG': 'release-colab-20230316-060220-RC00',\n",
              "        'KMP_TARGET_PORT': '9000',\n",
              "        'KMP_EXTRA_ARGS': '--listen_host=172.28.0.12 --target_host=172.28.0.12 --tunnel_background_save_url=https://colab.research.google.com/tun/m/cc48301118ce562b961b3c22d803539adc1e0c19/m-s-adhzg1csyem7 --tunnel_background_save_delay=10s --tunnel_periodic_background_save_frequency=30m0s --enable_output_coalescing=true --output_coalescing_required=true',\n",
              "        'NV_LIBNPP_DEV_PACKAGE': 'libnpp-dev-11-8=11.8.0.86-1',\n",
              "        'NV_LIBCUBLAS_PACKAGE_NAME': 'libcublas-11-8',\n",
              "        'COLAB_KERNEL_MANAGER_PROXY_PORT': '6000',\n",
              "        'CLOUDSDK_PYTHON': 'python3',\n",
              "        'NV_LIBNPP_DEV_VERSION': '11.8.0.86-1',\n",
              "        'NO_GCE_CHECK': 'False',\n",
              "        'PYTHONPATH': '/env/python',\n",
              "        'SETUPTOOLS_USE_DISTUTILS': 'stdlib',\n",
              "        'NV_LIBCUSPARSE_DEV_VERSION': '11.7.5.86-1',\n",
              "        'LIBRARY_PATH': '/usr/local/cuda/lib64/stubs',\n",
              "        'NV_CUDNN_VERSION': '8.7.0.84',\n",
              "        'SHLVL': '0',\n",
              "        'NV_CUDA_LIB_VERSION': '11.8.0-1',\n",
              "        'NVARCH': 'x86_64',\n",
              "        'NV_CUDNN_PACKAGE_DEV': 'libcudnn8-dev=8.7.0.84-1+cuda11.8',\n",
              "        'NV_CUDA_COMPAT_PACKAGE': 'cuda-compat-11-8',\n",
              "        'NV_LIBNCCL_PACKAGE': 'libnccl2=2.16.2-1+cuda11.8',\n",
              "        'LD_LIBRARY_PATH': '/usr/local/nvidia/lib:/usr/local/nvidia/lib64',\n",
              "        'COLAB_GPU': '',\n",
              "        'GCS_READ_CACHE_BLOCK_SIZE_MB': '16',\n",
              "        'NV_NVPROF_VERSION': '11.8.87-1',\n",
              "        'PATH': '/opt/bin:/usr/local/nvidia/bin:/usr/local/cuda/bin:/usr/local/sbin:/usr/local/bin:/usr/sbin:/usr/bin:/sbin:/bin:/tools/node/bin:/tools/google-cloud-sdk/bin',\n",
              "        'NV_LIBNCCL_PACKAGE_NAME': 'libnccl2',\n",
              "        'COLAB_DEBUG_ADAPTER_MUX_PATH': '/usr/local/bin/dap_multiplexer',\n",
              "        'NV_LIBNCCL_PACKAGE_VERSION': '2.16.2-1',\n",
              "        'PYTHONWARNINGS': 'ignore:::pip._internal.cli.base_command',\n",
              "        'DEBIAN_FRONTEND': 'noninteractive',\n",
              "        'COLAB_BACKEND_VERSION': 'next',\n",
              "        'OLDPWD': '/',\n",
              "        'JPY_PARENT_PID': '82',\n",
              "        'TERM': 'xterm-color',\n",
              "        'CLICOLOR': '1',\n",
              "        'PAGER': 'cat',\n",
              "        'GIT_PAGER': 'cat',\n",
              "        'MPLBACKEND': 'module://ipykernel.pylab.backend_inline',\n",
              "        'ENABLE_DIRECTORYPREFETCHER': '1',\n",
              "        'USE_AUTH_EPHEM': '1',\n",
              "        'PYDEVD_USE_FRAME_EVAL': 'NO'}"
            ]
          },
          "metadata": {},
          "execution_count": 92
        }
      ]
    },
    {
      "cell_type": "code",
      "source": [
        "os.listdir()"
      ],
      "metadata": {
        "colab": {
          "base_uri": "https://localhost:8080/"
        },
        "id": "x6jDf24DN0JG",
        "outputId": "8bc6088b-6b2a-4404-bf4e-58904981def8"
      },
      "execution_count": 93,
      "outputs": [
        {
          "output_type": "execute_result",
          "data": {
            "text/plain": [
              "['.config', 'sample_data']"
            ]
          },
          "metadata": {},
          "execution_count": 93
        }
      ]
    },
    {
      "cell_type": "code",
      "source": [
        "os.mkdir(\"test_dir\")"
      ],
      "metadata": {
        "id": "mL81vrkqN4YV"
      },
      "execution_count": 94,
      "outputs": []
    },
    {
      "cell_type": "code",
      "source": [
        "os.listdir()"
      ],
      "metadata": {
        "colab": {
          "base_uri": "https://localhost:8080/"
        },
        "id": "cbqPmjrVN9_G",
        "outputId": "5b856fb9-5c3f-4059-f5ad-30b4026c5ee1"
      },
      "execution_count": 95,
      "outputs": [
        {
          "output_type": "execute_result",
          "data": {
            "text/plain": [
              "['.config', 'test_dir', 'sample_data']"
            ]
          },
          "metadata": {},
          "execution_count": 95
        }
      ]
    },
    {
      "cell_type": "code",
      "source": [
        "major = \"c\""
      ],
      "metadata": {
        "id": "u7X0kNYkOC3I"
      },
      "execution_count": 98,
      "outputs": []
    },
    {
      "cell_type": "code",
      "source": [
        "if major == 'a':\n",
        "  print(\"a\")\n",
        "elif major == \"b\":\n",
        "  print(\"b\")\n",
        "else:\n",
        "  print(\"default\")"
      ],
      "metadata": {
        "colab": {
          "base_uri": "https://localhost:8080/"
        },
        "id": "ckIXlvCuQLJf",
        "outputId": "7f76865a-c2e1-4319-9306-b66e37dfc5f1"
      },
      "execution_count": 99,
      "outputs": [
        {
          "output_type": "stream",
          "name": "stdout",
          "text": [
            "default\n"
          ]
        }
      ]
    },
    {
      "cell_type": "code",
      "source": [
        "week = 0"
      ],
      "metadata": {
        "id": "li9yF1JuQYiV"
      },
      "execution_count": 105,
      "outputs": []
    },
    {
      "cell_type": "code",
      "source": [
        "while week != 15:\n",
        "  week += 1\n",
        "  print(\"week %d\" %week)\n",
        "print(\"end\")"
      ],
      "metadata": {
        "colab": {
          "base_uri": "https://localhost:8080/"
        },
        "id": "PEpbqhaVQ396",
        "outputId": "cf3da4d1-f854-4397-9571-b5225b24672e"
      },
      "execution_count": 106,
      "outputs": [
        {
          "output_type": "stream",
          "name": "stdout",
          "text": [
            "week 1\n",
            "week 2\n",
            "week 3\n",
            "week 4\n",
            "week 5\n",
            "week 6\n",
            "week 7\n",
            "week 8\n",
            "week 9\n",
            "week 10\n",
            "week 11\n",
            "week 12\n",
            "week 13\n",
            "week 14\n",
            "week 15\n",
            "end\n"
          ]
        }
      ]
    },
    {
      "cell_type": "code",
      "source": [
        "class_name"
      ],
      "metadata": {
        "colab": {
          "base_uri": "https://localhost:8080/",
          "height": 35
        },
        "id": "GFCdrBeqRDej",
        "outputId": "28b79fa3-4f0e-447d-ab49-3e839c6827b8"
      },
      "execution_count": 107,
      "outputs": [
        {
          "output_type": "execute_result",
          "data": {
            "text/plain": [
              "'c'"
            ],
            "application/vnd.google.colaboratory.intrinsic+json": {
              "type": "string"
            }
          },
          "metadata": {},
          "execution_count": 107
        }
      ]
    },
    {
      "cell_type": "code",
      "source": [
        "class_list"
      ],
      "metadata": {
        "colab": {
          "base_uri": "https://localhost:8080/"
        },
        "id": "ge0imwWrW6a4",
        "outputId": "c0ce5bb2-6b8a-4a49-bd21-a9c54924d2e1"
      },
      "execution_count": 108,
      "outputs": [
        {
          "output_type": "execute_result",
          "data": {
            "text/plain": [
              "['a', 'b', 'c']"
            ]
          },
          "metadata": {},
          "execution_count": 108
        }
      ]
    },
    {
      "cell_type": "code",
      "source": [
        "for i in class_list:\n",
        "  print(i)"
      ],
      "metadata": {
        "colab": {
          "base_uri": "https://localhost:8080/"
        },
        "id": "VR5NcE7GW8QN",
        "outputId": "9163281e-f19b-4f55-e172-c4980f637a80"
      },
      "execution_count": 109,
      "outputs": [
        {
          "output_type": "stream",
          "name": "stdout",
          "text": [
            "a\n",
            "b\n",
            "c\n"
          ]
        }
      ]
    },
    {
      "cell_type": "code",
      "source": [
        "for i in range(len(class_list)):\n",
        "  print(class_list[i])"
      ],
      "metadata": {
        "colab": {
          "base_uri": "https://localhost:8080/"
        },
        "id": "ZP97sComW-1J",
        "outputId": "222785d0-4d9b-456f-e597-71effc0957bb"
      },
      "execution_count": 114,
      "outputs": [
        {
          "output_type": "stream",
          "name": "stdout",
          "text": [
            "c\n",
            "b\n",
            "a\n"
          ]
        }
      ]
    },
    {
      "cell_type": "code",
      "source": [
        "class Myclass:\n",
        "  def __init__(self):\n",
        "    self.num = 0\n",
        "  def add(self, a):\n",
        "    self.num += a\n",
        "  def sub(self, a):\n",
        "    self.num -= a\n"
      ],
      "metadata": {
        "id": "a7GLjq_IXIFI"
      },
      "execution_count": 143,
      "outputs": []
    },
    {
      "cell_type": "code",
      "source": [
        "a = Myclass()"
      ],
      "metadata": {
        "id": "1kK9OPcjdI8H"
      },
      "execution_count": 145,
      "outputs": []
    },
    {
      "cell_type": "code",
      "source": [
        "a.add(1)"
      ],
      "metadata": {
        "id": "DmsMBEfgdSeT"
      },
      "execution_count": 146,
      "outputs": []
    },
    {
      "cell_type": "code",
      "source": [
        "a.num"
      ],
      "metadata": {
        "id": "bFwnpZMgdnhk",
        "outputId": "05ec43df-e043-4ee0-ad8f-ac2d80a5a2a3",
        "colab": {
          "base_uri": "https://localhost:8080/"
        }
      },
      "execution_count": 147,
      "outputs": [
        {
          "output_type": "execute_result",
          "data": {
            "text/plain": [
              "1"
            ]
          },
          "metadata": {},
          "execution_count": 147
        }
      ]
    },
    {
      "cell_type": "code",
      "source": [
        "a.sub(7)"
      ],
      "metadata": {
        "id": "tQhOS0E0elM9"
      },
      "execution_count": 148,
      "outputs": []
    },
    {
      "cell_type": "code",
      "source": [
        "a.num"
      ],
      "metadata": {
        "id": "F-cdQ3X4etKJ",
        "outputId": "da6c83d4-0698-4a06-9bed-33b70e344e90",
        "colab": {
          "base_uri": "https://localhost:8080/"
        }
      },
      "execution_count": 150,
      "outputs": [
        {
          "output_type": "execute_result",
          "data": {
            "text/plain": [
              "-6"
            ]
          },
          "metadata": {},
          "execution_count": 150
        }
      ]
    },
    {
      "cell_type": "code",
      "source": [],
      "metadata": {
        "id": "HAFa-Wp_ewSx"
      },
      "execution_count": null,
      "outputs": []
    }
  ],
  "metadata": {
    "colab": {
      "name": "Welcome To Colaboratory",
      "provenance": [],
      "include_colab_link": true
    },
    "kernelspec": {
      "display_name": "Python 3",
      "name": "python3"
    }
  },
  "nbformat": 4,
  "nbformat_minor": 0
}
