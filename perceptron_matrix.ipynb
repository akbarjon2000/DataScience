{
  "cells": [
    {
      "cell_type": "markdown",
      "metadata": {
        "id": "view-in-github",
        "colab_type": "text"
      },
      "source": [
        "<a href=\"https://colab.research.google.com/github/akbarjon2000/DataScience/blob/main/perceptron_matrix.ipynb\" target=\"_parent\"><img src=\"https://colab.research.google.com/assets/colab-badge.svg\" alt=\"Open In Colab\"/></a>"
      ]
    },
    {
      "cell_type": "code",
      "source": [
        "import pandas as pd\n",
        "import numpy as np"
      ],
      "metadata": {
        "id": "GX3QLgpyS1aA"
      },
      "execution_count": 1,
      "outputs": []
    },
    {
      "cell_type": "code",
      "source": [
        "def AND(x1, x2):\n",
        "  w1, w2, b = 0.5, 0.5, 0.7\n",
        "  signal = x1*w1 + x2*w2\n",
        "  if signal <= b:\n",
        "    return 0\n",
        "  else:\n",
        "    return 1"
      ],
      "metadata": {
        "id": "6okQh_o7S4bL"
      },
      "execution_count": 2,
      "outputs": []
    },
    {
      "cell_type": "code",
      "source": [
        "AND(1, 1)"
      ],
      "metadata": {
        "id": "0ZnJUoqsTh3Y",
        "outputId": "5da47edc-7926-4ddc-8d22-4c01a7fa7da2",
        "colab": {
          "base_uri": "https://localhost:8080/"
        }
      },
      "execution_count": 3,
      "outputs": [
        {
          "output_type": "execute_result",
          "data": {
            "text/plain": [
              "1"
            ]
          },
          "metadata": {},
          "execution_count": 3
        }
      ]
    },
    {
      "cell_type": "code",
      "source": [
        "AND(1, 0)"
      ],
      "metadata": {
        "id": "4mjXN3xQTjCI",
        "outputId": "a18b8f6a-c134-41ab-9576-6dceef46d1ff",
        "colab": {
          "base_uri": "https://localhost:8080/"
        }
      },
      "execution_count": 4,
      "outputs": [
        {
          "output_type": "execute_result",
          "data": {
            "text/plain": [
              "0"
            ]
          },
          "metadata": {},
          "execution_count": 4
        }
      ]
    },
    {
      "cell_type": "code",
      "source": [
        "def NAND(x1, x2):\n",
        "  w1, w2, b = -0.5, -0.5, -0.7\n",
        "  signal = x1*w1 + x2*w2\n",
        "  if signal <= b:\n",
        "    return 0\n",
        "  else:\n",
        "    return 1"
      ],
      "metadata": {
        "id": "SrlceuZ0TkGz"
      },
      "execution_count": 5,
      "outputs": []
    },
    {
      "cell_type": "code",
      "source": [
        "NAND(0,0)"
      ],
      "metadata": {
        "id": "VFK7jd0bUO79",
        "outputId": "fb29af66-feea-43b0-caa9-218b2f6c0bba",
        "colab": {
          "base_uri": "https://localhost:8080/"
        }
      },
      "execution_count": 6,
      "outputs": [
        {
          "output_type": "execute_result",
          "data": {
            "text/plain": [
              "1"
            ]
          },
          "metadata": {},
          "execution_count": 6
        }
      ]
    },
    {
      "cell_type": "code",
      "source": [
        "NAND(1, 1)"
      ],
      "metadata": {
        "id": "TkDWDfU2UQo_",
        "outputId": "1956e011-7fcf-4711-b890-1d32d7bb513c",
        "colab": {
          "base_uri": "https://localhost:8080/"
        }
      },
      "execution_count": 7,
      "outputs": [
        {
          "output_type": "execute_result",
          "data": {
            "text/plain": [
              "0"
            ]
          },
          "metadata": {},
          "execution_count": 7
        }
      ]
    },
    {
      "cell_type": "code",
      "source": [
        "def OR(x1, x2):\n",
        "  w1, w2, b = 0.5, 0.5, 0.2\n",
        "  signal = x1*w1 + x2*w2\n",
        "  if signal <= b:\n",
        "    return 0\n",
        "  else:\n",
        "    return 1"
      ],
      "metadata": {
        "id": "5RPTvYpMUSFb"
      },
      "execution_count": 14,
      "outputs": []
    },
    {
      "cell_type": "code",
      "source": [
        "OR(1, 0)"
      ],
      "metadata": {
        "id": "TBldZPHOUheR",
        "outputId": "48f430ad-fc18-42da-eaeb-edf1f3ab2568",
        "colab": {
          "base_uri": "https://localhost:8080/"
        }
      },
      "execution_count": 15,
      "outputs": [
        {
          "output_type": "execute_result",
          "data": {
            "text/plain": [
              "1"
            ]
          },
          "metadata": {},
          "execution_count": 15
        }
      ]
    },
    {
      "cell_type": "code",
      "source": [
        "OR(0,0)"
      ],
      "metadata": {
        "id": "o-7Bi1KgUi1f",
        "outputId": "4d5e235f-7eaf-445d-a7d4-42e6888ec948",
        "colab": {
          "base_uri": "https://localhost:8080/"
        }
      },
      "execution_count": 16,
      "outputs": [
        {
          "output_type": "execute_result",
          "data": {
            "text/plain": [
              "0"
            ]
          },
          "metadata": {},
          "execution_count": 16
        }
      ]
    },
    {
      "cell_type": "code",
      "source": [
        "def XOR(x1, x2):\n",
        "  s1 = NAND(x1, x2)\n",
        "  s2 = OR(x1, x2)\n",
        "  s3 = AND(s1, s2)\n",
        "  return s3"
      ],
      "metadata": {
        "id": "EG2DvO_SUrnX"
      },
      "execution_count": 17,
      "outputs": []
    },
    {
      "cell_type": "code",
      "source": [
        "XOR(1, 1)"
      ],
      "metadata": {
        "id": "WVU2X7dpVFnf",
        "outputId": "be61c780-56b6-45a2-f4dc-33e3069cb2a2",
        "colab": {
          "base_uri": "https://localhost:8080/"
        }
      },
      "execution_count": 18,
      "outputs": [
        {
          "output_type": "execute_result",
          "data": {
            "text/plain": [
              "0"
            ]
          },
          "metadata": {},
          "execution_count": 18
        }
      ]
    },
    {
      "cell_type": "code",
      "source": [
        "def step_function(x):\n",
        "  if x <=0:\n",
        "    return 0\n",
        "  else:\n",
        "    return 1"
      ],
      "metadata": {
        "id": "mZmPR_qeVHYq"
      },
      "execution_count": 19,
      "outputs": []
    },
    {
      "cell_type": "code",
      "source": [
        "def step_matrix(x):\n",
        "  return np.array(x>0, dtype=int)"
      ],
      "metadata": {
        "id": "ivdzUfeOXNCi"
      },
      "execution_count": 21,
      "outputs": []
    },
    {
      "cell_type": "code",
      "source": [
        "x = [[0, 0], [0, 1], [1, 0], [1,1]]"
      ],
      "metadata": {
        "id": "6o3I15FGXCTA"
      },
      "execution_count": 20,
      "outputs": []
    },
    {
      "cell_type": "code",
      "source": [
        "def AND_matrix(x):\n",
        "  w1, w2, b = 0.5, 0.5, -0.7\n",
        "  w = np.array([[w1],[w2]])\n",
        "  signal = np.dot(x, w) + b\n",
        "  \n",
        "  return step_matrix(signal)"
      ],
      "metadata": {
        "id": "qe34LZHSVxes"
      },
      "execution_count": 28,
      "outputs": []
    },
    {
      "cell_type": "code",
      "source": [
        "AND_matrix(x)"
      ],
      "metadata": {
        "id": "rxdZr-q1XbOx",
        "outputId": "79804bbb-9902-42fb-b090-2143ab5c8d1b",
        "colab": {
          "base_uri": "https://localhost:8080/"
        }
      },
      "execution_count": 29,
      "outputs": [
        {
          "output_type": "execute_result",
          "data": {
            "text/plain": [
              "array([[0],\n",
              "       [0],\n",
              "       [0],\n",
              "       [1]])"
            ]
          },
          "metadata": {},
          "execution_count": 29
        }
      ]
    },
    {
      "cell_type": "code",
      "source": [
        "def NAND_matrix(x):\n",
        "  w1, w2, b = -0.5, -0.5, 0.7\n",
        "  w = np.array([[w1],[w2]])\n",
        "  signal = np.dot(x, w) + b\n",
        "  \n",
        "  return step_matrix(signal)\n"
      ],
      "metadata": {
        "id": "b48qNX7_Xeq4"
      },
      "execution_count": 36,
      "outputs": []
    },
    {
      "cell_type": "code",
      "source": [
        "NAND_matrix(x)"
      ],
      "metadata": {
        "id": "XBkNQjFJYBLs",
        "outputId": "c892fcd8-ca89-4e62-bc07-64ecbe9cf848",
        "colab": {
          "base_uri": "https://localhost:8080/"
        }
      },
      "execution_count": 56,
      "outputs": [
        {
          "output_type": "execute_result",
          "data": {
            "text/plain": [
              "array([[1],\n",
              "       [1],\n",
              "       [1],\n",
              "       [0]])"
            ]
          },
          "metadata": {},
          "execution_count": 56
        }
      ]
    },
    {
      "cell_type": "code",
      "source": [
        "def OR_matrix(x):\n",
        "  w1, w2, b = 0.5, 0.5, -0.2\n",
        "  w = np.array([[w1],[w2]])\n",
        "  signal = np.dot(x, w) + b\n",
        "  \n",
        "  return step_matrix(signal)"
      ],
      "metadata": {
        "id": "_7bWiAOPYDMK"
      },
      "execution_count": 38,
      "outputs": []
    },
    {
      "cell_type": "code",
      "source": [
        "OR_matrix(x)"
      ],
      "metadata": {
        "id": "adX_mavvYjNW",
        "outputId": "a461bd20-ad56-454f-f5a5-bf3b422b57a2",
        "colab": {
          "base_uri": "https://localhost:8080/"
        }
      },
      "execution_count": 55,
      "outputs": [
        {
          "output_type": "execute_result",
          "data": {
            "text/plain": [
              "array([[0],\n",
              "       [1],\n",
              "       [1],\n",
              "       [1]])"
            ]
          },
          "metadata": {},
          "execution_count": 55
        }
      ]
    },
    {
      "cell_type": "code",
      "source": [
        "np.concatenate((a, b), axis=1)"
      ],
      "metadata": {
        "id": "xBvkTlNJZIXm",
        "outputId": "48961a33-167e-41e0-cc37-f53a52166236",
        "colab": {
          "base_uri": "https://localhost:8080/"
        }
      },
      "execution_count": 50,
      "outputs": [
        {
          "output_type": "execute_result",
          "data": {
            "text/plain": [
              "array([[0, 1],\n",
              "       [1, 1],\n",
              "       [1, 1],\n",
              "       [1, 0]])"
            ]
          },
          "metadata": {},
          "execution_count": 50
        }
      ]
    },
    {
      "cell_type": "code",
      "source": [],
      "metadata": {
        "id": "mArian_DZH25"
      },
      "execution_count": null,
      "outputs": []
    },
    {
      "cell_type": "code",
      "source": [
        "def XOR_matrix(x):\n",
        "  s1 = NAND_matrix(x)\n",
        "  s2 = OR_matrix(x)\n",
        "  s3 = AND_matrix(np.concatenate((s1, s2), axis=1))\n",
        "  return step_matrix(s3)"
      ],
      "metadata": {
        "id": "n8tFK4MTYk9n"
      },
      "execution_count": 53,
      "outputs": []
    },
    {
      "cell_type": "code",
      "source": [
        "XOR_matrix(x)"
      ],
      "metadata": {
        "id": "j1SM1ZjqaGTz",
        "outputId": "e02ad7e1-1af1-4aca-b4c8-7af8e177de27",
        "colab": {
          "base_uri": "https://localhost:8080/"
        }
      },
      "execution_count": 54,
      "outputs": [
        {
          "output_type": "execute_result",
          "data": {
            "text/plain": [
              "array([[0],\n",
              "       [1],\n",
              "       [1],\n",
              "       [0]])"
            ]
          },
          "metadata": {},
          "execution_count": 54
        }
      ]
    },
    {
      "cell_type": "code",
      "source": [],
      "metadata": {
        "id": "IIx45ptPaIv1"
      },
      "execution_count": null,
      "outputs": []
    }
  ],
  "metadata": {
    "colab": {
      "name": "Welcome To Colaboratory",
      "toc_visible": true,
      "provenance": [],
      "include_colab_link": true
    },
    "kernelspec": {
      "display_name": "Python 3",
      "name": "python3"
    }
  },
  "nbformat": 4,
  "nbformat_minor": 0
}