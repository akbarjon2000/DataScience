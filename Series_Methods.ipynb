{
  "cells": [
    {
      "cell_type": "markdown",
      "metadata": {
        "id": "view-in-github",
        "colab_type": "text"
      },
      "source": [
        "<a href=\"https://colab.research.google.com/github/akbarjon2000/DataScience/blob/main/Series_Methods.ipynb\" target=\"_parent\"><img src=\"https://colab.research.google.com/assets/colab-badge.svg\" alt=\"Open In Colab\"/></a>"
      ]
    },
    {
      "cell_type": "code",
      "source": [
        "import pandas as pd\n",
        "from pandas import Series as s"
      ],
      "metadata": {
        "id": "7unzY3fp04rF"
      },
      "execution_count": 5,
      "outputs": []
    },
    {
      "cell_type": "code",
      "source": [
        "from numpy import nan\n",
        "obj1 = s({'a':1000, 'b':2000, 'c':3000, 'd':4000, 'e':nan})"
      ],
      "metadata": {
        "id": "-dX4ccLY2JfW"
      },
      "execution_count": 21,
      "outputs": []
    },
    {
      "cell_type": "code",
      "source": [
        "obj1.values"
      ],
      "metadata": {
        "id": "cTH_18M52mRB",
        "outputId": "1558bc29-7f81-4c19-8b53-081f07782373",
        "colab": {
          "base_uri": "https://localhost:8080/"
        }
      },
      "execution_count": 7,
      "outputs": [
        {
          "output_type": "execute_result",
          "data": {
            "text/plain": [
              "array([1000, 2000, 3000, 4000])"
            ]
          },
          "metadata": {},
          "execution_count": 7
        }
      ]
    },
    {
      "cell_type": "code",
      "source": [
        "obj1.index"
      ],
      "metadata": {
        "id": "6BOI9OwJ2vSK",
        "outputId": "2d485426-0e3d-4290-fb55-c5c0272d83ad",
        "colab": {
          "base_uri": "https://localhost:8080/"
        }
      },
      "execution_count": 9,
      "outputs": [
        {
          "output_type": "execute_result",
          "data": {
            "text/plain": [
              "Index(['a', 'b', 'c', 'd'], dtype='object')"
            ]
          },
          "metadata": {},
          "execution_count": 9
        }
      ]
    },
    {
      "cell_type": "code",
      "source": [
        "obj1['a'] = 1500\n",
        "obj1"
      ],
      "metadata": {
        "id": "LHxWXz8r20_w",
        "outputId": "1e2184c4-149f-4dc1-8674-1161e58467a4",
        "colab": {
          "base_uri": "https://localhost:8080/"
        }
      },
      "execution_count": 12,
      "outputs": [
        {
          "output_type": "execute_result",
          "data": {
            "text/plain": [
              "a    1500\n",
              "b    2000\n",
              "c    3000\n",
              "d    4000\n",
              "dtype: int64"
            ]
          },
          "metadata": {},
          "execution_count": 12
        }
      ]
    },
    {
      "cell_type": "code",
      "source": [],
      "metadata": {
        "id": "qLkFLbQf22hs"
      },
      "execution_count": null,
      "outputs": []
    },
    {
      "cell_type": "code",
      "source": [
        "obj1[['a', 'b', 'c']]"
      ],
      "metadata": {
        "id": "m2JVGxx74YGl",
        "outputId": "9fcef0e0-af9d-4e2a-cb69-0b99dc488780",
        "colab": {
          "base_uri": "https://localhost:8080/"
        }
      },
      "execution_count": 13,
      "outputs": [
        {
          "output_type": "execute_result",
          "data": {
            "text/plain": [
              "a    1500\n",
              "b    2000\n",
              "c    3000\n",
              "dtype: int64"
            ]
          },
          "metadata": {},
          "execution_count": 13
        }
      ]
    },
    {
      "cell_type": "code",
      "source": [
        "obj1[obj1 > 2000]"
      ],
      "metadata": {
        "id": "HIbD0mZa4c2n",
        "outputId": "50b676c1-dba8-45e5-dbd5-1d289abf5e77",
        "colab": {
          "base_uri": "https://localhost:8080/"
        }
      },
      "execution_count": 14,
      "outputs": [
        {
          "output_type": "execute_result",
          "data": {
            "text/plain": [
              "c    3000\n",
              "d    4000\n",
              "dtype: int64"
            ]
          },
          "metadata": {},
          "execution_count": 14
        }
      ]
    },
    {
      "cell_type": "code",
      "source": [
        "obj1 + 1"
      ],
      "metadata": {
        "id": "XxipxfDh4ixc",
        "outputId": "b3337526-2b5b-4f40-c95f-13f202ba99a0",
        "colab": {
          "base_uri": "https://localhost:8080/"
        }
      },
      "execution_count": 16,
      "outputs": [
        {
          "output_type": "execute_result",
          "data": {
            "text/plain": [
              "a    1501\n",
              "b    2001\n",
              "c    3001\n",
              "d    4001\n",
              "dtype: int64"
            ]
          },
          "metadata": {},
          "execution_count": 16
        }
      ]
    },
    {
      "cell_type": "code",
      "source": [
        "'a' in obj1\n"
      ],
      "metadata": {
        "id": "QyEUPmsz4nqW",
        "outputId": "64fee4b8-65bc-445a-f710-c54e2f297a4a",
        "colab": {
          "base_uri": "https://localhost:8080/"
        }
      },
      "execution_count": 17,
      "outputs": [
        {
          "output_type": "execute_result",
          "data": {
            "text/plain": [
              "True"
            ]
          },
          "metadata": {},
          "execution_count": 17
        }
      ]
    },
    {
      "cell_type": "code",
      "source": [
        "obj1.isnull()"
      ],
      "metadata": {
        "id": "0CjaKw3x4uDM",
        "outputId": "35374be6-5b4c-4a63-f120-d5f3784d86fb",
        "colab": {
          "base_uri": "https://localhost:8080/"
        }
      },
      "execution_count": 18,
      "outputs": [
        {
          "output_type": "execute_result",
          "data": {
            "text/plain": [
              "a    False\n",
              "b    False\n",
              "c    False\n",
              "d    False\n",
              "dtype: bool"
            ]
          },
          "metadata": {},
          "execution_count": 18
        }
      ]
    },
    {
      "cell_type": "code",
      "source": [
        "obj1.notnull()"
      ],
      "metadata": {
        "id": "wyLvq46Q406b",
        "outputId": "95b14da5-3050-41aa-cd5a-98e6b164d498",
        "colab": {
          "base_uri": "https://localhost:8080/"
        }
      },
      "execution_count": 22,
      "outputs": [
        {
          "output_type": "execute_result",
          "data": {
            "text/plain": [
              "a     True\n",
              "b     True\n",
              "c     True\n",
              "d     True\n",
              "e    False\n",
              "dtype: bool"
            ]
          },
          "metadata": {},
          "execution_count": 22
        }
      ]
    },
    {
      "cell_type": "code",
      "source": [],
      "metadata": {
        "id": "wKjk30lC44TY"
      },
      "execution_count": null,
      "outputs": []
    },
    {
      "cell_type": "code",
      "source": [
        "obj1.notnull\n"
      ],
      "metadata": {
        "id": "MykuD4YC45kp",
        "outputId": "3c6d09f8-d89e-4f18-8739-ca9359b3893c",
        "colab": {
          "base_uri": "https://localhost:8080/"
        }
      },
      "execution_count": 23,
      "outputs": [
        {
          "output_type": "execute_result",
          "data": {
            "text/plain": [
              "<bound method Series.notnull of a    1000.0\n",
              "b    2000.0\n",
              "c    3000.0\n",
              "d    4000.0\n",
              "e       NaN\n",
              "dtype: float64>"
            ]
          },
          "metadata": {},
          "execution_count": 23
        }
      ]
    },
    {
      "cell_type": "code",
      "source": [
        "obj1.name = 'test'"
      ],
      "metadata": {
        "id": "cMp2xx0A4-aN"
      },
      "execution_count": 24,
      "outputs": []
    },
    {
      "cell_type": "code",
      "source": [
        "obj1"
      ],
      "metadata": {
        "id": "oe1SdfC_5Z-G",
        "outputId": "d6306087-b941-4d59-d1a7-599d68477811",
        "colab": {
          "base_uri": "https://localhost:8080/"
        }
      },
      "execution_count": 25,
      "outputs": [
        {
          "output_type": "execute_result",
          "data": {
            "text/plain": [
              "a    1000.0\n",
              "b    2000.0\n",
              "c    3000.0\n",
              "d    4000.0\n",
              "e       NaN\n",
              "Name: test, dtype: float64"
            ]
          },
          "metadata": {},
          "execution_count": 25
        }
      ]
    },
    {
      "cell_type": "code",
      "source": [
        "obj1.index.name = 'letters'"
      ],
      "metadata": {
        "id": "DJG_0ilE5anV"
      },
      "execution_count": 26,
      "outputs": []
    },
    {
      "cell_type": "code",
      "source": [
        "obj1"
      ],
      "metadata": {
        "id": "FG2J4OaO5e1O",
        "outputId": "6c24f94e-682f-4482-a540-b05b99b9eb06",
        "colab": {
          "base_uri": "https://localhost:8080/"
        }
      },
      "execution_count": 27,
      "outputs": [
        {
          "output_type": "execute_result",
          "data": {
            "text/plain": [
              "letters\n",
              "a    1000.0\n",
              "b    2000.0\n",
              "c    3000.0\n",
              "d    4000.0\n",
              "e       NaN\n",
              "Name: test, dtype: float64"
            ]
          },
          "metadata": {},
          "execution_count": 27
        }
      ]
    },
    {
      "cell_type": "code",
      "source": [
        "obj1.dtype"
      ],
      "metadata": {
        "id": "C9CZL6uU5gR9",
        "outputId": "d4ea29e6-34cf-4874-d83e-fd25483f5e30",
        "colab": {
          "base_uri": "https://localhost:8080/"
        }
      },
      "execution_count": 28,
      "outputs": [
        {
          "output_type": "execute_result",
          "data": {
            "text/plain": [
              "dtype('float64')"
            ]
          },
          "metadata": {},
          "execution_count": 28
        }
      ]
    },
    {
      "cell_type": "code",
      "source": [
        "obj1.size"
      ],
      "metadata": {
        "id": "ovo5DIGo5lqA",
        "outputId": "621f1af4-0595-4111-f73e-821a3792f3ed",
        "colab": {
          "base_uri": "https://localhost:8080/"
        }
      },
      "execution_count": 29,
      "outputs": [
        {
          "output_type": "execute_result",
          "data": {
            "text/plain": [
              "5"
            ]
          },
          "metadata": {},
          "execution_count": 29
        }
      ]
    },
    {
      "cell_type": "code",
      "source": [
        "obj1.is_unique"
      ],
      "metadata": {
        "id": "EoBFQ7oB5pPL",
        "outputId": "4853abc2-e492-46c7-9beb-bba35440a214",
        "colab": {
          "base_uri": "https://localhost:8080/"
        }
      },
      "execution_count": 30,
      "outputs": [
        {
          "output_type": "execute_result",
          "data": {
            "text/plain": [
              "True"
            ]
          },
          "metadata": {},
          "execution_count": 30
        }
      ]
    },
    {
      "cell_type": "code",
      "source": [
        "obj1.shape"
      ],
      "metadata": {
        "id": "zllTRthl5uP2",
        "outputId": "1206b18d-7ffa-4a48-89e7-414c92dce7b8",
        "colab": {
          "base_uri": "https://localhost:8080/"
        }
      },
      "execution_count": 31,
      "outputs": [
        {
          "output_type": "execute_result",
          "data": {
            "text/plain": [
              "(5,)"
            ]
          },
          "metadata": {},
          "execution_count": 31
        }
      ]
    },
    {
      "cell_type": "code",
      "source": [
        "obj1.size"
      ],
      "metadata": {
        "id": "yQ4H73uU5xoz",
        "outputId": "bc21d7af-6265-4e6b-e46c-ee1fedb2125a",
        "colab": {
          "base_uri": "https://localhost:8080/"
        }
      },
      "execution_count": 32,
      "outputs": [
        {
          "output_type": "execute_result",
          "data": {
            "text/plain": [
              "5"
            ]
          },
          "metadata": {},
          "execution_count": 32
        }
      ]
    },
    {
      "cell_type": "code",
      "source": [
        "obj1.iloc[2]"
      ],
      "metadata": {
        "id": "Ti__Fm9R50rX",
        "outputId": "48cc70ea-be4a-475e-821f-869228380205",
        "colab": {
          "base_uri": "https://localhost:8080/"
        }
      },
      "execution_count": 33,
      "outputs": [
        {
          "output_type": "execute_result",
          "data": {
            "text/plain": [
              "3000.0"
            ]
          },
          "metadata": {},
          "execution_count": 33
        }
      ]
    },
    {
      "cell_type": "code",
      "source": [
        "obj1[2]"
      ],
      "metadata": {
        "id": "x9UYgU_O57bK",
        "outputId": "d22d7cd9-e5da-4bef-9c0d-6b7ee06d69b7",
        "colab": {
          "base_uri": "https://localhost:8080/"
        }
      },
      "execution_count": 34,
      "outputs": [
        {
          "output_type": "execute_result",
          "data": {
            "text/plain": [
              "3000.0"
            ]
          },
          "metadata": {},
          "execution_count": 34
        }
      ]
    },
    {
      "cell_type": "code",
      "source": [
        "obj1.max()"
      ],
      "metadata": {
        "id": "uhlNbo7C59WD",
        "outputId": "d4f2417a-c81f-45ca-9aff-b7c284025787",
        "colab": {
          "base_uri": "https://localhost:8080/"
        }
      },
      "execution_count": 36,
      "outputs": [
        {
          "output_type": "execute_result",
          "data": {
            "text/plain": [
              "4000.0"
            ]
          },
          "metadata": {},
          "execution_count": 36
        }
      ]
    },
    {
      "cell_type": "code",
      "source": [
        "obj1.min()"
      ],
      "metadata": {
        "id": "iUK7hXP-9-DF",
        "outputId": "35c976b0-39a1-4593-cd09-228f91d75aec",
        "colab": {
          "base_uri": "https://localhost:8080/"
        }
      },
      "execution_count": 37,
      "outputs": [
        {
          "output_type": "execute_result",
          "data": {
            "text/plain": [
              "1000.0"
            ]
          },
          "metadata": {},
          "execution_count": 37
        }
      ]
    },
    {
      "cell_type": "code",
      "source": [
        "obj1.mean()"
      ],
      "metadata": {
        "id": "anxtYqIr-B5n",
        "outputId": "e27611b9-ccb1-45e2-f85a-cae2eae92696",
        "colab": {
          "base_uri": "https://localhost:8080/"
        }
      },
      "execution_count": 38,
      "outputs": [
        {
          "output_type": "execute_result",
          "data": {
            "text/plain": [
              "2500.0"
            ]
          },
          "metadata": {},
          "execution_count": 38
        }
      ]
    },
    {
      "cell_type": "code",
      "source": [],
      "metadata": {
        "id": "Tl4HAMGP-EMq"
      },
      "execution_count": null,
      "outputs": []
    }
  ],
  "metadata": {
    "colab": {
      "name": "Welcome To Colaboratory",
      "toc_visible": true,
      "provenance": [],
      "include_colab_link": true
    },
    "kernelspec": {
      "display_name": "Python 3",
      "name": "python3"
    }
  },
  "nbformat": 4,
  "nbformat_minor": 0
}