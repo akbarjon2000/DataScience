{
  "cells": [
    {
      "cell_type": "markdown",
      "metadata": {
        "id": "view-in-github",
        "colab_type": "text"
      },
      "source": [
        "<a href=\"https://colab.research.google.com/github/akbarjon2000/DataScience/blob/main/Midterm_python.ipynb\" target=\"_parent\"><img src=\"https://colab.research.google.com/assets/colab-badge.svg\" alt=\"Open In Colab\"/></a>"
      ]
    },
    {
      "cell_type": "code",
      "source": [
        "add = lambda a,b: a+b"
      ],
      "metadata": {
        "id": "RmoDdPrZ-A29"
      },
      "execution_count": 1,
      "outputs": []
    },
    {
      "cell_type": "code",
      "source": [
        "add(2,4)"
      ],
      "metadata": {
        "id": "xEUpgaox-Inn",
        "outputId": "784be6cb-29b2-479c-9f12-ef9d542912de",
        "colab": {
          "base_uri": "https://localhost:8080/"
        }
      },
      "execution_count": 2,
      "outputs": [
        {
          "output_type": "execute_result",
          "data": {
            "text/plain": [
              "6"
            ]
          },
          "metadata": {},
          "execution_count": 2
        }
      ]
    },
    {
      "cell_type": "code",
      "source": [
        "def math(a):\n",
        "  return lambda b: a + b"
      ],
      "metadata": {
        "id": "3sAKx-NJ-NQ8"
      },
      "execution_count": 19,
      "outputs": []
    },
    {
      "cell_type": "code",
      "source": [
        "print(math(2)(3))"
      ],
      "metadata": {
        "id": "MhZ2r4cp-4JQ",
        "outputId": "5c3365cf-b9e5-4413-e11a-6f0ef6f9d45a",
        "colab": {
          "base_uri": "https://localhost:8080/"
        }
      },
      "execution_count": 21,
      "outputs": [
        {
          "output_type": "stream",
          "name": "stdout",
          "text": [
            "5\n"
          ]
        }
      ]
    },
    {
      "cell_type": "code",
      "source": [
        "math(2)(4)"
      ],
      "metadata": {
        "id": "8pL0JClL-5W5",
        "outputId": "32a6053d-8314-4141-ef35-bed374d4ccb9",
        "colab": {
          "base_uri": "https://localhost:8080/"
        }
      },
      "execution_count": 22,
      "outputs": [
        {
          "output_type": "execute_result",
          "data": {
            "text/plain": [
              "6"
            ]
          },
          "metadata": {},
          "execution_count": 22
        }
      ]
    },
    {
      "cell_type": "code",
      "source": [
        "class Func:\n",
        "  def __init__(s, a, b):\n",
        "    s.a = a\n",
        "    s.b = b"
      ],
      "metadata": {
        "id": "sv2_gZQ2_zEM"
      },
      "execution_count": 41,
      "outputs": []
    },
    {
      "cell_type": "code",
      "source": [
        "func = Func(1,2)"
      ],
      "metadata": {
        "id": "DSoaBsdtAz-9"
      },
      "execution_count": 42,
      "outputs": []
    },
    {
      "cell_type": "code",
      "source": [
        "func"
      ],
      "metadata": {
        "id": "Yl36vIWLA6mO",
        "outputId": "7e27e700-a853-4d71-d5ac-4c9f3747a0f1",
        "colab": {
          "base_uri": "https://localhost:8080/"
        }
      },
      "execution_count": 43,
      "outputs": [
        {
          "output_type": "execute_result",
          "data": {
            "text/plain": [
              "<__main__.Func at 0x7f74dd3165e0>"
            ]
          },
          "metadata": {},
          "execution_count": 43
        }
      ]
    },
    {
      "cell_type": "code",
      "source": [
        "print(func.b)"
      ],
      "metadata": {
        "id": "724VyAhNA7fE",
        "outputId": "22070230-7a59-4afa-b560-687b038b82c7",
        "colab": {
          "base_uri": "https://localhost:8080/"
        }
      },
      "execution_count": 44,
      "outputs": [
        {
          "output_type": "stream",
          "name": "stdout",
          "text": [
            "2\n"
          ]
        }
      ]
    },
    {
      "cell_type": "code",
      "source": [
        "dice1 = open('dice1.py','w' )"
      ],
      "metadata": {
        "id": "3GGY8xGDBBXf"
      },
      "execution_count": 49,
      "outputs": []
    },
    {
      "cell_type": "code",
      "source": [
        "dice1"
      ],
      "metadata": {
        "id": "HcBv52q1EgTo",
        "outputId": "6aaddd65-d299-49c0-c7ec-ccbdab6646eb",
        "colab": {
          "base_uri": "https://localhost:8080/"
        }
      },
      "execution_count": 50,
      "outputs": [
        {
          "output_type": "execute_result",
          "data": {
            "text/plain": [
              "<_io.TextIOWrapper name='dice1.py' mode='w' encoding='UTF-8'>"
            ]
          },
          "metadata": {},
          "execution_count": 50
        }
      ]
    },
    {
      "cell_type": "code",
      "source": [
        "dice1.write(\"somehting\")"
      ],
      "metadata": {
        "id": "U9qEiMQuEhbt",
        "outputId": "011bf120-0434-4b28-d836-c38dffebd77d",
        "colab": {
          "base_uri": "https://localhost:8080/"
        }
      },
      "execution_count": 51,
      "outputs": [
        {
          "output_type": "execute_result",
          "data": {
            "text/plain": [
              "9"
            ]
          },
          "metadata": {},
          "execution_count": 51
        }
      ]
    },
    {
      "cell_type": "code",
      "source": [
        "dice1.close()"
      ],
      "metadata": {
        "id": "HH9CiM2wFRXi"
      },
      "execution_count": 52,
      "outputs": []
    },
    {
      "cell_type": "code",
      "source": [
        "class Myfunc:\n",
        "    def __init__(self, result):\n",
        "        if result:\n",
        "            self.result = result\n",
        "        else:\n",
        "            self.result = 0\n",
        "    def add(self, a):\n",
        "        self.result += a\n",
        "        print(self.result)\n",
        "    def sub(self,a):\n",
        "        self.result -= a\n",
        "        print(self.result)\n",
        "    def mult(self,a):\n",
        "        self.result *= a\n",
        "        print(self.result)\n",
        "    def dev(self,a):\n",
        "        self.result /= a\n",
        "        print(self.result)\n",
        "    def reset(self):\n",
        "        self.result = 0\n",
        "        print(self.result)"
      ],
      "metadata": {
        "id": "WvfEhlHaOurl"
      },
      "execution_count": 77,
      "outputs": []
    },
    {
      "cell_type": "code",
      "source": [
        "func = Myfunc(1)"
      ],
      "metadata": {
        "id": "KVY8qHhfT8qb"
      },
      "execution_count": 78,
      "outputs": []
    },
    {
      "cell_type": "code",
      "source": [
        "func.result"
      ],
      "metadata": {
        "id": "qb3XIN0HUCMH",
        "outputId": "10023e32-9a1d-427a-e90c-0ff452a612b6",
        "colab": {
          "base_uri": "https://localhost:8080/"
        }
      },
      "execution_count": 79,
      "outputs": [
        {
          "output_type": "execute_result",
          "data": {
            "text/plain": [
              "1"
            ]
          },
          "metadata": {},
          "execution_count": 79
        }
      ]
    },
    {
      "cell_type": "code",
      "source": [
        "func.add(4)"
      ],
      "metadata": {
        "id": "ISJ8S10wUGxC",
        "outputId": "f67f7fa6-0e70-446c-ab47-a9db9b400635",
        "colab": {
          "base_uri": "https://localhost:8080/"
        }
      },
      "execution_count": 80,
      "outputs": [
        {
          "output_type": "stream",
          "name": "stdout",
          "text": [
            "5\n"
          ]
        }
      ]
    },
    {
      "cell_type": "code",
      "source": [
        "func.reset()"
      ],
      "metadata": {
        "id": "UR3VbTeoW0aT",
        "outputId": "9a684119-2a7e-4992-bb17-4982ef8bcf56",
        "colab": {
          "base_uri": "https://localhost:8080/"
        }
      },
      "execution_count": 81,
      "outputs": [
        {
          "output_type": "stream",
          "name": "stdout",
          "text": [
            "0\n"
          ]
        }
      ]
    },
    {
      "cell_type": "code",
      "source": [
        "scores = {'cholsuu':60, 'yeonghee':75, 'minhee':55, 'yeonsu':20, 'yeongcheol':45}"
      ],
      "metadata": {
        "id": "8m5v2GZQW5s4"
      },
      "execution_count": 82,
      "outputs": []
    },
    {
      "cell_type": "code",
      "source": [
        "def multi_score(dic):\n",
        "    for key in dic:\n",
        "        if dic[key] > 50:\n",
        "            print(\"%s passed with score %d\" %(key,dic[key]))\n",
        "        else:\n",
        "          print(\"%s failed with score %d\" %(key,dic[key]))"
      ],
      "metadata": {
        "id": "ZzhJ4K5jYuik"
      },
      "execution_count": 86,
      "outputs": []
    },
    {
      "cell_type": "code",
      "source": [
        "multi_score(scores)"
      ],
      "metadata": {
        "id": "iqsaBd9pYyl8",
        "outputId": "f8d16f71-419d-4e11-827b-fa07f69561ed",
        "colab": {
          "base_uri": "https://localhost:8080/"
        }
      },
      "execution_count": 87,
      "outputs": [
        {
          "output_type": "stream",
          "name": "stdout",
          "text": [
            "cholsuu passed with score 60\n",
            "yeonghee passed with score 75\n",
            "minhee passed with score 55\n",
            "yeonsu failed with score 20\n",
            "yeongcheol failed with score 45\n"
          ]
        }
      ]
    },
    {
      "cell_type": "code",
      "source": [
        "import random\n",
        "import statistics\n",
        "class Game:\n",
        "  def __init__(self):\n",
        "    self.Minsu = {'space': 0, 'dice':0}\n",
        "    self.Yeongcheol = {'space':0, 'dice':0}\n",
        "    \n",
        "  def roll_Minsu(self):\n",
        "    if not self.Minsu['space'] >= 100:\n",
        "      self.Minsu['space'] += random.randint(1, 6)\n",
        "      self.Minsu['dice'] += 1\n",
        "      if self.Minsu['space'] >= 100:\n",
        "        print(\"game is over the winner is Minsu with score of %d\" %self.Minsu['space'])\n",
        "    else:\n",
        "      print(\"game is already over Minsu is winner with score %d\" %self.Minsu['space'])\n",
        "  def roll_Yeongcheol(self):\n",
        "    if not self.Yeongcheol['space'] >= 100:\n",
        "      self.Yeongcheol['space'] += random.randint(1, 6)\n",
        "      self.Yeongcheol['dice'] += 1\n",
        "      if self.Yeongcheol['space'] >= 100:\n",
        "        print(\"game is over the winner is Yeongcheol with score of %d\" %self.Yeongcheol['space'])\n",
        "    else:\n",
        "      print(\"game is already over Yeongcheol is winner with score %d\" %self.Yeongcheol['space'])\n",
        "  def avg_var(self):\n",
        "    avarage = 0\n",
        "    arr = []\n",
        "    for i in range(1000):\n",
        "      r = random.randint(1, 6)\n",
        "      avarage += r\n",
        "      arr.append(r)\n",
        "    variance = statistics.variance(arr)\n",
        "    print(\"varage is %d, variance is %f\" %(avarage, variance))\n",
        "\n",
        "    "
      ],
      "metadata": {
        "id": "KwHGfrAMY1Ws"
      },
      "execution_count": 225,
      "outputs": []
    },
    {
      "cell_type": "code",
      "source": [],
      "metadata": {
        "id": "-SESl4P2d18p"
      },
      "execution_count": 225,
      "outputs": []
    },
    {
      "cell_type": "code",
      "source": [
        "game = Game()"
      ],
      "metadata": {
        "id": "XC8o4uBqadiD"
      },
      "execution_count": 226,
      "outputs": []
    },
    {
      "cell_type": "code",
      "source": [
        "game.Minsu"
      ],
      "metadata": {
        "id": "5gMF6Cykagbz",
        "outputId": "f0c120c7-1c90-4500-e28a-62aa8819f9ae",
        "colab": {
          "base_uri": "https://localhost:8080/"
        }
      },
      "execution_count": 227,
      "outputs": [
        {
          "output_type": "execute_result",
          "data": {
            "text/plain": [
              "{'space': 0, 'dice': 0}"
            ]
          },
          "metadata": {},
          "execution_count": 227
        }
      ]
    },
    {
      "cell_type": "code",
      "source": [
        "game.roll_Minsu()"
      ],
      "metadata": {
        "id": "hCooII3janCA"
      },
      "execution_count": 228,
      "outputs": []
    },
    {
      "cell_type": "code",
      "source": [
        "game.Minsu\n"
      ],
      "metadata": {
        "id": "M8cXI3Z8d4Tb",
        "outputId": "1238e833-bf64-487c-bfd0-ba008798d062",
        "colab": {
          "base_uri": "https://localhost:8080/"
        }
      },
      "execution_count": 229,
      "outputs": [
        {
          "output_type": "execute_result",
          "data": {
            "text/plain": [
              "{'space': 5, 'dice': 1}"
            ]
          },
          "metadata": {},
          "execution_count": 229
        }
      ]
    },
    {
      "cell_type": "code",
      "source": [
        "game.avg_var()"
      ],
      "metadata": {
        "id": "NW1sgYE6anvO",
        "outputId": "585df01e-aa5a-419b-aad8-153fe5ae4aa2",
        "colab": {
          "base_uri": "https://localhost:8080/"
        }
      },
      "execution_count": 230,
      "outputs": [
        {
          "output_type": "stream",
          "name": "stdout",
          "text": [
            "varage is 3484, variance is 3.082827\n"
          ]
        }
      ]
    },
    {
      "cell_type": "code",
      "source": [],
      "metadata": {
        "id": "krBo1Oq-iJc6"
      },
      "execution_count": null,
      "outputs": []
    }
  ],
  "metadata": {
    "colab": {
      "name": "Welcome To Colaboratory",
      "provenance": [],
      "include_colab_link": true
    },
    "kernelspec": {
      "display_name": "Python 3",
      "name": "python3"
    }
  },
  "nbformat": 4,
  "nbformat_minor": 0
}