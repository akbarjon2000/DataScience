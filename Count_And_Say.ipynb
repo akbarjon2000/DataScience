{
  "cells": [
    {
      "cell_type": "markdown",
      "metadata": {
        "id": "view-in-github",
        "colab_type": "text"
      },
      "source": [
        "<a href=\"https://colab.research.google.com/github/akbarjon2000/DataScience/blob/main/Count_And_Say.ipynb\" target=\"_parent\"><img src=\"https://colab.research.google.com/assets/colab-badge.svg\" alt=\"Open In Colab\"/></a>"
      ]
    },
    {
      "cell_type": "code",
      "source": [
        "class Solution(object):\n",
        "  def countAndSay(self, n):\n",
        "    self.obj = dict()\n",
        "    self.n = str(n)\n",
        "    self.string = \"\"\n",
        "    for i in self.n:\n",
        "      print(i)\n",
        "      if i in self.obj.keys():\n",
        "        self.obj[i] += 1\n",
        "      else:\n",
        "        self.obj[i] = 1\n",
        "    for i in self.obj.keys():\n",
        "      self.string += str(self.obj[i]) + i\n",
        "    return self.string\n",
        "Solution = Solution()"
      ],
      "metadata": {
        "id": "qC8JR5s56bUj"
      },
      "execution_count": 44,
      "outputs": []
    },
    {
      "cell_type": "code",
      "source": [
        "Solution.countAndSay(11)"
      ],
      "metadata": {
        "id": "HqnnMFDr6g31",
        "outputId": "9e686c54-7256-4b30-a155-79d269ab08fb",
        "colab": {
          "base_uri": "https://localhost:8080/",
          "height": 71
        }
      },
      "execution_count": 48,
      "outputs": [
        {
          "output_type": "stream",
          "name": "stdout",
          "text": [
            "1\n",
            "1\n"
          ]
        },
        {
          "output_type": "execute_result",
          "data": {
            "text/plain": [
              "'21'"
            ],
            "application/vnd.google.colaboratory.intrinsic+json": {
              "type": "string"
            }
          },
          "metadata": {},
          "execution_count": 48
        }
      ]
    },
    {
      "cell_type": "code",
      "source": [
        "class Solution2(object):\n",
        "  def countAndSay2(self, n):\n",
        "    self.obj = dict()\n",
        "    self.n = n\n",
        "    self.num = 0\n",
        "    self.string = \"\"\n",
        "    if n == 1:\n",
        "      return \"1\"\n",
        "    while self.num < self.n:\n",
        "      self.num += 1\n",
        "      self.string += Solution.countAndSay(self.num)\n",
        "    return self.string\n",
        "Solution2 = Solution2()\n",
        "Solution2.countAndSay2(4)"
      ],
      "metadata": {
        "id": "yDg5HyO47a72",
        "outputId": "114cca67-0f5c-4cc1-94e1-5fe11de750cb",
        "colab": {
          "base_uri": "https://localhost:8080/",
          "height": 107
        }
      },
      "execution_count": 47,
      "outputs": [
        {
          "output_type": "stream",
          "name": "stdout",
          "text": [
            "1\n",
            "2\n",
            "3\n",
            "4\n"
          ]
        },
        {
          "output_type": "execute_result",
          "data": {
            "text/plain": [
              "'11121314'"
            ],
            "application/vnd.google.colaboratory.intrinsic+json": {
              "type": "string"
            }
          },
          "metadata": {},
          "execution_count": 47
        }
      ]
    },
    {
      "cell_type": "code",
      "source": [],
      "metadata": {
        "id": "4HqQkpftEa7r"
      },
      "execution_count": null,
      "outputs": []
    }
  ],
  "metadata": {
    "colab": {
      "name": "Welcome To Colaboratory",
      "toc_visible": true,
      "provenance": [],
      "include_colab_link": true
    },
    "kernelspec": {
      "display_name": "Python 3",
      "name": "python3"
    }
  },
  "nbformat": 4,
  "nbformat_minor": 0
}