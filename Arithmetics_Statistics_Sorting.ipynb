{
  "cells": [
    {
      "cell_type": "markdown",
      "metadata": {
        "id": "view-in-github",
        "colab_type": "text"
      },
      "source": [
        "<a href=\"https://colab.research.google.com/github/akbarjon2000/DataScience/blob/main/Arithmetics_Statistics_Sorting.ipynb\" target=\"_parent\"><img src=\"https://colab.research.google.com/assets/colab-badge.svg\" alt=\"Open In Colab\"/></a>"
      ]
    },
    {
      "cell_type": "code",
      "source": [
        "import numpy as np"
      ],
      "metadata": {
        "id": "QYFbIZmVTAZV"
      },
      "execution_count": 1,
      "outputs": []
    },
    {
      "cell_type": "code",
      "source": [
        "xarr = np.array([1.1,1.2,1.3,1.4,1.5])\n",
        "yarr = np.array([2.1,2.2,2.3,2.4,2.5])\n",
        "cond = np.array([True, True, False, True, False])"
      ],
      "metadata": {
        "id": "DSSZfKhkTWy7"
      },
      "execution_count": 6,
      "outputs": []
    },
    {
      "cell_type": "code",
      "source": [
        "result = np.where(cond, xarr, yarr)\n",
        "result"
      ],
      "metadata": {
        "id": "3rMRUn2DVv66",
        "outputId": "9ae8f96b-1d96-4ccb-a70d-9846b2191126",
        "colab": {
          "base_uri": "https://localhost:8080/"
        }
      },
      "execution_count": 7,
      "outputs": [
        {
          "output_type": "execute_result",
          "data": {
            "text/plain": [
              "array([1.1, 1.2, 2.3, 1.4, 2.5])"
            ]
          },
          "metadata": {},
          "execution_count": 7
        }
      ]
    },
    {
      "cell_type": "code",
      "source": [
        "data = np.random.randn(6)\n",
        "data"
      ],
      "metadata": {
        "id": "TfHJyL2HV4kw",
        "outputId": "d3a01eb6-1fc3-46ef-e772-76c2a47f8179",
        "colab": {
          "base_uri": "https://localhost:8080/"
        }
      },
      "execution_count": 8,
      "outputs": [
        {
          "output_type": "execute_result",
          "data": {
            "text/plain": [
              "array([ 0.2113586 ,  0.87022012, -0.98798713, -1.45319232, -2.50186525,\n",
              "        0.54486668])"
            ]
          },
          "metadata": {},
          "execution_count": 8
        }
      ]
    },
    {
      "cell_type": "code",
      "source": [
        "np.sum(data)"
      ],
      "metadata": {
        "id": "4VIrovHZhH9B",
        "outputId": "0f21a509-ce32-4d0b-b46e-06adc21fedf7",
        "colab": {
          "base_uri": "https://localhost:8080/"
        }
      },
      "execution_count": 9,
      "outputs": [
        {
          "output_type": "execute_result",
          "data": {
            "text/plain": [
              "-3.316599296226372"
            ]
          },
          "metadata": {},
          "execution_count": 9
        }
      ]
    },
    {
      "cell_type": "code",
      "source": [
        "np.mean(data)"
      ],
      "metadata": {
        "id": "hCb0ZzpVhNLH",
        "outputId": "7c3e1478-4982-420c-8150-3c534cfd349b",
        "colab": {
          "base_uri": "https://localhost:8080/"
        }
      },
      "execution_count": 10,
      "outputs": [
        {
          "output_type": "execute_result",
          "data": {
            "text/plain": [
              "-0.552766549371062"
            ]
          },
          "metadata": {},
          "execution_count": 10
        }
      ]
    },
    {
      "cell_type": "code",
      "source": [
        "np.cumsum(data)"
      ],
      "metadata": {
        "id": "YFwA9nqMhPR6",
        "outputId": "900bb209-0254-43da-8237-6ae9d7d97b1c",
        "colab": {
          "base_uri": "https://localhost:8080/"
        }
      },
      "execution_count": 11,
      "outputs": [
        {
          "output_type": "execute_result",
          "data": {
            "text/plain": [
              "array([ 0.2113586 ,  1.08157873,  0.09359159, -1.35960073, -3.86146597,\n",
              "       -3.3165993 ])"
            ]
          },
          "metadata": {},
          "execution_count": 11
        }
      ]
    },
    {
      "cell_type": "code",
      "source": [
        "np.cumprod(data)"
      ],
      "metadata": {
        "id": "QCHDR0JuhSSD",
        "outputId": "440f55a5-36d7-41e3-9196-45c62a9b52f1",
        "colab": {
          "base_uri": "https://localhost:8080/"
        }
      },
      "execution_count": 12,
      "outputs": [
        {
          "output_type": "execute_result",
          "data": {
            "text/plain": [
              "array([ 0.2113586 ,  0.18392851, -0.181719  ,  0.26407266, -0.66067421,\n",
              "       -0.35997936])"
            ]
          },
          "metadata": {},
          "execution_count": 12
        }
      ]
    },
    {
      "cell_type": "code",
      "source": [
        "data = np.random.rand(6)"
      ],
      "metadata": {
        "id": "6l8K6F9UhWeY"
      },
      "execution_count": 13,
      "outputs": []
    },
    {
      "cell_type": "code",
      "source": [
        "data"
      ],
      "metadata": {
        "id": "Tkw6_selhber",
        "outputId": "173803e8-4581-498c-f178-c9acfc038360",
        "colab": {
          "base_uri": "https://localhost:8080/"
        }
      },
      "execution_count": 14,
      "outputs": [
        {
          "output_type": "execute_result",
          "data": {
            "text/plain": [
              "array([0.23243197, 0.51857391, 0.81133424, 0.5599864 , 0.90770145,\n",
              "       0.39788887])"
            ]
          },
          "metadata": {},
          "execution_count": 14
        }
      ]
    },
    {
      "cell_type": "code",
      "source": [
        "np.sort(data)"
      ],
      "metadata": {
        "id": "xeKHVvW6hcD8",
        "outputId": "c195e9d7-b5f9-44a4-c46b-f6f6e67975cf",
        "colab": {
          "base_uri": "https://localhost:8080/"
        }
      },
      "execution_count": 15,
      "outputs": [
        {
          "output_type": "execute_result",
          "data": {
            "text/plain": [
              "array([0.23243197, 0.39788887, 0.51857391, 0.5599864 , 0.81133424,\n",
              "       0.90770145])"
            ]
          },
          "metadata": {},
          "execution_count": 15
        }
      ]
    },
    {
      "cell_type": "code",
      "source": [
        "-np.sort(-data)"
      ],
      "metadata": {
        "id": "pjKmlQGMheoF",
        "outputId": "f944ce58-c299-4734-8075-a72b07125bf5",
        "colab": {
          "base_uri": "https://localhost:8080/"
        }
      },
      "execution_count": 16,
      "outputs": [
        {
          "output_type": "execute_result",
          "data": {
            "text/plain": [
              "array([0.90770145, 0.81133424, 0.5599864 , 0.51857391, 0.39788887,\n",
              "       0.23243197])"
            ]
          },
          "metadata": {},
          "execution_count": 16
        }
      ]
    },
    {
      "cell_type": "code",
      "source": [
        "np.sort(-data)"
      ],
      "metadata": {
        "id": "SYbf1BCVhj47",
        "outputId": "456a6315-a827-4625-db22-edd37989a558",
        "colab": {
          "base_uri": "https://localhost:8080/"
        }
      },
      "execution_count": 17,
      "outputs": [
        {
          "output_type": "execute_result",
          "data": {
            "text/plain": [
              "array([-0.90770145, -0.81133424, -0.5599864 , -0.51857391, -0.39788887,\n",
              "       -0.23243197])"
            ]
          },
          "metadata": {},
          "execution_count": 17
        }
      ]
    },
    {
      "cell_type": "code",
      "source": [
        "data = np.random.rand(2, 3)"
      ],
      "metadata": {
        "id": "e9wTs-5EhmEe"
      },
      "execution_count": 19,
      "outputs": []
    },
    {
      "cell_type": "code",
      "source": [
        "data"
      ],
      "metadata": {
        "id": "kyEsG24XhxZv",
        "outputId": "90076e58-fbed-421f-bbca-d3f7464cac95",
        "colab": {
          "base_uri": "https://localhost:8080/"
        }
      },
      "execution_count": 20,
      "outputs": [
        {
          "output_type": "execute_result",
          "data": {
            "text/plain": [
              "array([[0.07100192, 0.2405625 , 0.38940262],\n",
              "       [0.36726412, 0.03218669, 0.39546407]])"
            ]
          },
          "metadata": {},
          "execution_count": 20
        }
      ]
    },
    {
      "cell_type": "code",
      "source": [
        "np.sort(data, axis=0)"
      ],
      "metadata": {
        "id": "OlO_RiH0h0CR",
        "outputId": "3abcc8e6-f781-4521-ef43-b7da74f35797",
        "colab": {
          "base_uri": "https://localhost:8080/"
        }
      },
      "execution_count": 21,
      "outputs": [
        {
          "output_type": "execute_result",
          "data": {
            "text/plain": [
              "array([[0.07100192, 0.03218669, 0.38940262],\n",
              "       [0.36726412, 0.2405625 , 0.39546407]])"
            ]
          },
          "metadata": {},
          "execution_count": 21
        }
      ]
    },
    {
      "cell_type": "code",
      "source": [
        "np.sort(data, axis=1)"
      ],
      "metadata": {
        "id": "dVc07A_Mh3Zt",
        "outputId": "dcd74ca4-6148-42a9-bc84-69d1d9dced57",
        "colab": {
          "base_uri": "https://localhost:8080/"
        }
      },
      "execution_count": 22,
      "outputs": [
        {
          "output_type": "execute_result",
          "data": {
            "text/plain": [
              "array([[0.07100192, 0.2405625 , 0.38940262],\n",
              "       [0.03218669, 0.36726412, 0.39546407]])"
            ]
          },
          "metadata": {},
          "execution_count": 22
        }
      ]
    },
    {
      "cell_type": "code",
      "source": [
        "-np.sort(-data, axis = 1)"
      ],
      "metadata": {
        "id": "PeeAuDllh8Dz",
        "outputId": "09b5a95f-b0ea-4d6a-a840-c67691ea5aaf",
        "colab": {
          "base_uri": "https://localhost:8080/"
        }
      },
      "execution_count": 23,
      "outputs": [
        {
          "output_type": "execute_result",
          "data": {
            "text/plain": [
              "array([[0.38940262, 0.2405625 , 0.07100192],\n",
              "       [0.39546407, 0.36726412, 0.03218669]])"
            ]
          },
          "metadata": {},
          "execution_count": 23
        }
      ]
    },
    {
      "cell_type": "code",
      "source": [
        "np.sort(data)"
      ],
      "metadata": {
        "id": "L6ToiRTIiEI_",
        "outputId": "a5b29e80-b925-493f-ac51-fd78dfda8c42",
        "colab": {
          "base_uri": "https://localhost:8080/"
        }
      },
      "execution_count": 24,
      "outputs": [
        {
          "output_type": "execute_result",
          "data": {
            "text/plain": [
              "array([[0.07100192, 0.2405625 , 0.38940262],\n",
              "       [0.03218669, 0.36726412, 0.39546407]])"
            ]
          },
          "metadata": {},
          "execution_count": 24
        }
      ]
    },
    {
      "cell_type": "code",
      "source": [],
      "metadata": {
        "id": "MkRqmUppi_Y4"
      },
      "execution_count": null,
      "outputs": []
    }
  ],
  "metadata": {
    "colab": {
      "name": "Welcome To Colaboratory",
      "toc_visible": true,
      "provenance": [],
      "include_colab_link": true
    },
    "kernelspec": {
      "display_name": "Python 3",
      "name": "python3"
    }
  },
  "nbformat": 4,
  "nbformat_minor": 0
}