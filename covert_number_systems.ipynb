{
  "cells": [
    {
      "cell_type": "markdown",
      "metadata": {
        "id": "view-in-github",
        "colab_type": "text"
      },
      "source": [
        "<a href=\"https://colab.research.google.com/github/akbarjon2000/DataScience/blob/main/covert_number_systems.ipynb\" target=\"_parent\"><img src=\"https://colab.research.google.com/assets/colab-badge.svg\" alt=\"Open In Colab\"/></a>"
      ]
    },
    {
      "cell_type": "code",
      "source": [
        "class Convert:\n",
        "  def __init__(self, length=0):\n",
        "    self.res = 0\n",
        "    self.length = length\n",
        "  def binary_to_decimal(self, b):\n",
        "    self.res = 0\n",
        "    self.length = len(b)\n",
        "    b = b[::-1]\n",
        "    for i in range(self.length):\n",
        "      self.res += int(b[i])*2**i\n",
        "    return self.res\n",
        "  def decimal_to_hex(self,d):\n",
        "    self.res = ''\n",
        "    self.d = d\n",
        "    while self.d!=0:\n",
        "      if self.d%16 > 9:\n",
        "        if self.d%16 == 10:\n",
        "          self.res = self.res + \"A\"\n",
        "        if self.d%16 == 11:\n",
        "          self.res = self.res + \"B\"\n",
        "        if self.d%16 == 12:\n",
        "          self.res = self.res + \"C\"\n",
        "        if self.d%16 == 13:\n",
        "          self.res = self.res + \"D\"\n",
        "        if self.d%16 == 14:\n",
        "          self.res = self.res + \"E\"\n",
        "        if self.d%16 == 15:\n",
        "          self.res = self.res + \"F\"\n",
        "      else:\n",
        "        self.res = self.res + str(self.d%16)\n",
        "      self.d = self.d//16\n",
        "    self.res = self.res[::-1]\n",
        "    return self.res\n"
      ],
      "metadata": {
        "id": "aVc9Z9HRST3r"
      },
      "execution_count": 45,
      "outputs": []
    },
    {
      "cell_type": "code",
      "source": [
        "d = Convert()"
      ],
      "metadata": {
        "id": "0jJGp3HoTxFv"
      },
      "execution_count": 46,
      "outputs": []
    },
    {
      "cell_type": "code",
      "source": [
        "d.binary_to_decimal(\"1101\")"
      ],
      "metadata": {
        "id": "B6Hk8-YOT05E",
        "outputId": "c7ab6133-5de5-4aff-856c-affd38dbed82",
        "colab": {
          "base_uri": "https://localhost:8080/"
        }
      },
      "execution_count": 47,
      "outputs": [
        {
          "output_type": "execute_result",
          "data": {
            "text/plain": [
              "13"
            ]
          },
          "metadata": {},
          "execution_count": 47
        }
      ]
    },
    {
      "cell_type": "code",
      "source": [
        "d.decimal_to_hex(1000)"
      ],
      "metadata": {
        "id": "w1t6-5hjcylZ",
        "outputId": "b6af1026-c339-41f4-92a4-fb255c7eeb78",
        "colab": {
          "base_uri": "https://localhost:8080/",
          "height": 35
        }
      },
      "execution_count": 48,
      "outputs": [
        {
          "output_type": "execute_result",
          "data": {
            "text/plain": [
              "'3E8'"
            ],
            "application/vnd.google.colaboratory.intrinsic+json": {
              "type": "string"
            }
          },
          "metadata": {},
          "execution_count": 48
        }
      ]
    },
    {
      "cell_type": "code",
      "source": [],
      "metadata": {
        "id": "zKWEVkNxfkm6"
      },
      "execution_count": null,
      "outputs": []
    }
  ],
  "metadata": {
    "colab": {
      "name": "Welcome To Colaboratory",
      "toc_visible": true,
      "provenance": [],
      "include_colab_link": true
    },
    "kernelspec": {
      "display_name": "Python 3",
      "name": "python3"
    }
  },
  "nbformat": 4,
  "nbformat_minor": 0
}